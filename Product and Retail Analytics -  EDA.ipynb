{
 "cells": [
  {
   "cell_type": "markdown",
   "metadata": {
    "colab_type": "text",
    "id": "QkNAa8KUjPtc"
   },
   "source": [
    "### Product and Retail Data Analysis"
   ]
  },
  {
   "cell_type": "code",
   "execution_count": 1,
   "metadata": {
    "colab": {},
    "colab_type": "code",
    "id": "Thnzux4hjPti",
    "scrolled": true
   },
   "outputs": [],
   "source": [
    "# Import our modules\n",
    "import pandas as pd \n",
    "import numpy as np\n",
    "import matplotlib.pyplot as plt\n",
    "import seaborn as sns \n",
    "\n",
    "import warnings\n",
    "# current version of seaborn generates a bunch of warnings that we'll ignore\n",
    "warnings.filterwarnings('ignore')\n",
    "sns.set_style('whitegrid')\n",
    "\n",
    "import gc\n",
    "import datetime\n",
    "\n",
    "%matplotlib inline\n",
    "# Using ggplot's style\n",
    "plt.style.use('ggplot')"
   ]
  },
  {
   "cell_type": "code",
   "execution_count": 2,
   "metadata": {
    "colab": {},
    "colab_type": "code",
    "id": "HpsoTxFRjPtn",
    "scrolled": true
   },
   "outputs": [],
   "source": [
    "# Loading our data\n",
    "\n",
    "data = pd.read_csv(\"ProductRetailAnalyticsEcom.csv\", encoding = 'ISO-8859-1')\n"
   ]
  },
  {
   "cell_type": "code",
   "execution_count": 3,
   "metadata": {
    "colab": {
     "base_uri": "https://localhost:8080/",
     "height": 202
    },
    "colab_type": "code",
    "executionInfo": {
     "elapsed": 455,
     "status": "ok",
     "timestamp": 1576727175280,
     "user": {
      "displayName": "Rajeev Ratan",
      "photoUrl": "https://lh3.googleusercontent.com/a-/AAuE7mCGo6aIm0tOcd5EhqWlYb0rime9sBvHS9YMpx0D2w=s64",
      "userId": "08597265227091462140"
     },
     "user_tz": 240
    },
    "id": "tywBPrULIa7H",
    "outputId": "4b9ed981-b9c7-4cae-8b9c-752520eaf103",
    "scrolled": true
   },
   "outputs": [
    {
     "data": {
      "text/html": [
       "<div>\n",
       "<style scoped>\n",
       "    .dataframe tbody tr th:only-of-type {\n",
       "        vertical-align: middle;\n",
       "    }\n",
       "\n",
       "    .dataframe tbody tr th {\n",
       "        vertical-align: top;\n",
       "    }\n",
       "\n",
       "    .dataframe thead th {\n",
       "        text-align: right;\n",
       "    }\n",
       "</style>\n",
       "<table border=\"1\" class=\"dataframe\">\n",
       "  <thead>\n",
       "    <tr style=\"text-align: right;\">\n",
       "      <th></th>\n",
       "      <th>InvoiceNo</th>\n",
       "      <th>StockCode</th>\n",
       "      <th>Description</th>\n",
       "      <th>Quantity</th>\n",
       "      <th>InvoiceDate</th>\n",
       "      <th>UnitPrice</th>\n",
       "      <th>CustomerID</th>\n",
       "      <th>Country</th>\n",
       "    </tr>\n",
       "  </thead>\n",
       "  <tbody>\n",
       "    <tr>\n",
       "      <th>0</th>\n",
       "      <td>536365</td>\n",
       "      <td>85123A</td>\n",
       "      <td>WHITE HANGING HEART T-LIGHT HOLDER</td>\n",
       "      <td>6</td>\n",
       "      <td>12/1/2010 8:26</td>\n",
       "      <td>2.55</td>\n",
       "      <td>17850.0</td>\n",
       "      <td>United Kingdom</td>\n",
       "    </tr>\n",
       "    <tr>\n",
       "      <th>1</th>\n",
       "      <td>536365</td>\n",
       "      <td>71053</td>\n",
       "      <td>WHITE METAL LANTERN</td>\n",
       "      <td>6</td>\n",
       "      <td>12/1/2010 8:26</td>\n",
       "      <td>3.39</td>\n",
       "      <td>17850.0</td>\n",
       "      <td>United Kingdom</td>\n",
       "    </tr>\n",
       "    <tr>\n",
       "      <th>2</th>\n",
       "      <td>536365</td>\n",
       "      <td>84406B</td>\n",
       "      <td>CREAM CUPID HEARTS COAT HANGER</td>\n",
       "      <td>8</td>\n",
       "      <td>12/1/2010 8:26</td>\n",
       "      <td>2.75</td>\n",
       "      <td>17850.0</td>\n",
       "      <td>United Kingdom</td>\n",
       "    </tr>\n",
       "    <tr>\n",
       "      <th>3</th>\n",
       "      <td>536365</td>\n",
       "      <td>84029G</td>\n",
       "      <td>KNITTED UNION FLAG HOT WATER BOTTLE</td>\n",
       "      <td>6</td>\n",
       "      <td>12/1/2010 8:26</td>\n",
       "      <td>3.39</td>\n",
       "      <td>17850.0</td>\n",
       "      <td>United Kingdom</td>\n",
       "    </tr>\n",
       "    <tr>\n",
       "      <th>4</th>\n",
       "      <td>536365</td>\n",
       "      <td>84029E</td>\n",
       "      <td>RED WOOLLY HOTTIE WHITE HEART.</td>\n",
       "      <td>6</td>\n",
       "      <td>12/1/2010 8:26</td>\n",
       "      <td>3.39</td>\n",
       "      <td>17850.0</td>\n",
       "      <td>United Kingdom</td>\n",
       "    </tr>\n",
       "  </tbody>\n",
       "</table>\n",
       "</div>"
      ],
      "text/plain": [
       "  InvoiceNo StockCode                          Description  Quantity  \\\n",
       "0    536365    85123A   WHITE HANGING HEART T-LIGHT HOLDER         6   \n",
       "1    536365     71053                  WHITE METAL LANTERN         6   \n",
       "2    536365    84406B       CREAM CUPID HEARTS COAT HANGER         8   \n",
       "3    536365    84029G  KNITTED UNION FLAG HOT WATER BOTTLE         6   \n",
       "4    536365    84029E       RED WOOLLY HOTTIE WHITE HEART.         6   \n",
       "\n",
       "      InvoiceDate  UnitPrice  CustomerID         Country  \n",
       "0  12/1/2010 8:26       2.55     17850.0  United Kingdom  \n",
       "1  12/1/2010 8:26       3.39     17850.0  United Kingdom  \n",
       "2  12/1/2010 8:26       2.75     17850.0  United Kingdom  \n",
       "3  12/1/2010 8:26       3.39     17850.0  United Kingdom  \n",
       "4  12/1/2010 8:26       3.39     17850.0  United Kingdom  "
      ]
     },
     "execution_count": 3,
     "metadata": {},
     "output_type": "execute_result"
    }
   ],
   "source": [
    "#look at the data\n",
    "data.head()"
   ]
  },
  {
   "cell_type": "code",
   "execution_count": 4,
   "metadata": {
    "scrolled": true
   },
   "outputs": [
    {
     "name": "stdout",
     "output_type": "stream",
     "text": [
      "Shape of data is (541909, 8) i.e 541909 rows and 8 columns.\n"
     ]
    }
   ],
   "source": [
    "print('Shape of data is {} i.e {} rows and {} columns.'.format(data.shape,data.shape[0],data.shape[1]))"
   ]
  },
  {
   "cell_type": "code",
   "execution_count": 5,
   "metadata": {
    "colab": {
     "base_uri": "https://localhost:8080/",
     "height": 243
    },
    "colab_type": "code",
    "executionInfo": {
     "elapsed": 466,
     "status": "ok",
     "timestamp": 1574026591708,
     "user": {
      "displayName": "Rajeev Ratan",
      "photoUrl": "https://lh3.googleusercontent.com/a-/AAuE7mCGo6aIm0tOcd5EhqWlYb0rime9sBvHS9YMpx0D2w=s64",
      "userId": "08597265227091462140"
     },
     "user_tz": 0
    },
    "id": "y8FPfPZ9jPtu",
    "outputId": "e1f0cb1f-d3d7-4383-a85f-524e7b42b10f",
    "scrolled": true
   },
   "outputs": [
    {
     "name": "stdout",
     "output_type": "stream",
     "text": [
      "<class 'pandas.core.frame.DataFrame'>\n",
      "RangeIndex: 541909 entries, 0 to 541908\n",
      "Data columns (total 8 columns):\n",
      " #   Column       Non-Null Count   Dtype  \n",
      "---  ------       --------------   -----  \n",
      " 0   InvoiceNo    541909 non-null  object \n",
      " 1   StockCode    541909 non-null  object \n",
      " 2   Description  540455 non-null  object \n",
      " 3   Quantity     541909 non-null  int64  \n",
      " 4   InvoiceDate  541909 non-null  object \n",
      " 5   UnitPrice    541909 non-null  float64\n",
      " 6   CustomerID   406829 non-null  float64\n",
      " 7   Country      541909 non-null  object \n",
      "dtypes: float64(2), int64(1), object(5)\n",
      "memory usage: 33.1+ MB\n"
     ]
    }
   ],
   "source": [
    "data.info()"
   ]
  },
  {
   "cell_type": "code",
   "execution_count": 6,
   "metadata": {
    "scrolled": true
   },
   "outputs": [
    {
     "data": {
      "text/html": [
       "<div>\n",
       "<style scoped>\n",
       "    .dataframe tbody tr th:only-of-type {\n",
       "        vertical-align: middle;\n",
       "    }\n",
       "\n",
       "    .dataframe tbody tr th {\n",
       "        vertical-align: top;\n",
       "    }\n",
       "\n",
       "    .dataframe thead th {\n",
       "        text-align: right;\n",
       "    }\n",
       "</style>\n",
       "<table border=\"1\" class=\"dataframe\">\n",
       "  <thead>\n",
       "    <tr style=\"text-align: right;\">\n",
       "      <th></th>\n",
       "      <th>Missing Values</th>\n",
       "      <th>Percentage of Missing Values</th>\n",
       "    </tr>\n",
       "  </thead>\n",
       "  <tbody>\n",
       "    <tr>\n",
       "      <th>CustomerID</th>\n",
       "      <td>135080</td>\n",
       "      <td>24.926694</td>\n",
       "    </tr>\n",
       "    <tr>\n",
       "      <th>Description</th>\n",
       "      <td>1454</td>\n",
       "      <td>0.268311</td>\n",
       "    </tr>\n",
       "    <tr>\n",
       "      <th>Country</th>\n",
       "      <td>0</td>\n",
       "      <td>0.000000</td>\n",
       "    </tr>\n",
       "    <tr>\n",
       "      <th>UnitPrice</th>\n",
       "      <td>0</td>\n",
       "      <td>0.000000</td>\n",
       "    </tr>\n",
       "    <tr>\n",
       "      <th>InvoiceDate</th>\n",
       "      <td>0</td>\n",
       "      <td>0.000000</td>\n",
       "    </tr>\n",
       "    <tr>\n",
       "      <th>Quantity</th>\n",
       "      <td>0</td>\n",
       "      <td>0.000000</td>\n",
       "    </tr>\n",
       "    <tr>\n",
       "      <th>StockCode</th>\n",
       "      <td>0</td>\n",
       "      <td>0.000000</td>\n",
       "    </tr>\n",
       "    <tr>\n",
       "      <th>InvoiceNo</th>\n",
       "      <td>0</td>\n",
       "      <td>0.000000</td>\n",
       "    </tr>\n",
       "  </tbody>\n",
       "</table>\n",
       "</div>"
      ],
      "text/plain": [
       "             Missing Values  Percentage of Missing Values\n",
       "CustomerID           135080                     24.926694\n",
       "Description            1454                      0.268311\n",
       "Country                   0                      0.000000\n",
       "UnitPrice                 0                      0.000000\n",
       "InvoiceDate               0                      0.000000\n",
       "Quantity                  0                      0.000000\n",
       "StockCode                 0                      0.000000\n",
       "InvoiceNo                 0                      0.000000"
      ]
     },
     "execution_count": 6,
     "metadata": {},
     "output_type": "execute_result"
    }
   ],
   "source": [
    "# check missing values for each column \n",
    "pd.DataFrame({'Missing Values':data.isnull().sum().sort_values(ascending=False), \n",
    "              'Percentage of Missing Values':(data.isnull().sum().sort_values(ascending=False)/data.shape[0])*100})"
   ]
  },
  {
   "cell_type": "code",
   "execution_count": 7,
   "metadata": {
    "colab": {
     "base_uri": "https://localhost:8080/",
     "height": 355
    },
    "colab_type": "code",
    "executionInfo": {
     "elapsed": 434,
     "status": "ok",
     "timestamp": 1574026634783,
     "user": {
      "displayName": "Rajeev Ratan",
      "photoUrl": "https://lh3.googleusercontent.com/a-/AAuE7mCGo6aIm0tOcd5EhqWlYb0rime9sBvHS9YMpx0D2w=s64",
      "userId": "08597265227091462140"
     },
     "user_tz": 0
    },
    "id": "1OaSKrRdjPtz",
    "outputId": "51e1b40c-5724-4849-8570-e82be2b3d8bd",
    "scrolled": true
   },
   "outputs": [
    {
     "data": {
      "text/html": [
       "<div>\n",
       "<style scoped>\n",
       "    .dataframe tbody tr th:only-of-type {\n",
       "        vertical-align: middle;\n",
       "    }\n",
       "\n",
       "    .dataframe tbody tr th {\n",
       "        vertical-align: top;\n",
       "    }\n",
       "\n",
       "    .dataframe thead th {\n",
       "        text-align: right;\n",
       "    }\n",
       "</style>\n",
       "<table border=\"1\" class=\"dataframe\">\n",
       "  <thead>\n",
       "    <tr style=\"text-align: right;\">\n",
       "      <th></th>\n",
       "      <th>InvoiceNo</th>\n",
       "      <th>StockCode</th>\n",
       "      <th>Description</th>\n",
       "      <th>Quantity</th>\n",
       "      <th>InvoiceDate</th>\n",
       "      <th>UnitPrice</th>\n",
       "      <th>CustomerID</th>\n",
       "      <th>Country</th>\n",
       "    </tr>\n",
       "  </thead>\n",
       "  <tbody>\n",
       "    <tr>\n",
       "      <th>622</th>\n",
       "      <td>536414</td>\n",
       "      <td>22139</td>\n",
       "      <td>NaN</td>\n",
       "      <td>56</td>\n",
       "      <td>12/1/2010 11:52</td>\n",
       "      <td>0.00</td>\n",
       "      <td>NaN</td>\n",
       "      <td>United Kingdom</td>\n",
       "    </tr>\n",
       "    <tr>\n",
       "      <th>1443</th>\n",
       "      <td>536544</td>\n",
       "      <td>21773</td>\n",
       "      <td>DECORATIVE ROSE BATHROOM BOTTLE</td>\n",
       "      <td>1</td>\n",
       "      <td>12/1/2010 14:32</td>\n",
       "      <td>2.51</td>\n",
       "      <td>NaN</td>\n",
       "      <td>United Kingdom</td>\n",
       "    </tr>\n",
       "    <tr>\n",
       "      <th>1444</th>\n",
       "      <td>536544</td>\n",
       "      <td>21774</td>\n",
       "      <td>DECORATIVE CATS BATHROOM BOTTLE</td>\n",
       "      <td>2</td>\n",
       "      <td>12/1/2010 14:32</td>\n",
       "      <td>2.51</td>\n",
       "      <td>NaN</td>\n",
       "      <td>United Kingdom</td>\n",
       "    </tr>\n",
       "    <tr>\n",
       "      <th>1445</th>\n",
       "      <td>536544</td>\n",
       "      <td>21786</td>\n",
       "      <td>POLKADOT RAIN HAT</td>\n",
       "      <td>4</td>\n",
       "      <td>12/1/2010 14:32</td>\n",
       "      <td>0.85</td>\n",
       "      <td>NaN</td>\n",
       "      <td>United Kingdom</td>\n",
       "    </tr>\n",
       "    <tr>\n",
       "      <th>1446</th>\n",
       "      <td>536544</td>\n",
       "      <td>21787</td>\n",
       "      <td>RAIN PONCHO RETROSPOT</td>\n",
       "      <td>2</td>\n",
       "      <td>12/1/2010 14:32</td>\n",
       "      <td>1.66</td>\n",
       "      <td>NaN</td>\n",
       "      <td>United Kingdom</td>\n",
       "    </tr>\n",
       "    <tr>\n",
       "      <th>1447</th>\n",
       "      <td>536544</td>\n",
       "      <td>21790</td>\n",
       "      <td>VINTAGE SNAP CARDS</td>\n",
       "      <td>9</td>\n",
       "      <td>12/1/2010 14:32</td>\n",
       "      <td>1.66</td>\n",
       "      <td>NaN</td>\n",
       "      <td>United Kingdom</td>\n",
       "    </tr>\n",
       "    <tr>\n",
       "      <th>1448</th>\n",
       "      <td>536544</td>\n",
       "      <td>21791</td>\n",
       "      <td>VINTAGE HEADS AND TAILS CARD GAME</td>\n",
       "      <td>2</td>\n",
       "      <td>12/1/2010 14:32</td>\n",
       "      <td>2.51</td>\n",
       "      <td>NaN</td>\n",
       "      <td>United Kingdom</td>\n",
       "    </tr>\n",
       "    <tr>\n",
       "      <th>1449</th>\n",
       "      <td>536544</td>\n",
       "      <td>21801</td>\n",
       "      <td>CHRISTMAS TREE DECORATION WITH BELL</td>\n",
       "      <td>10</td>\n",
       "      <td>12/1/2010 14:32</td>\n",
       "      <td>0.43</td>\n",
       "      <td>NaN</td>\n",
       "      <td>United Kingdom</td>\n",
       "    </tr>\n",
       "    <tr>\n",
       "      <th>1450</th>\n",
       "      <td>536544</td>\n",
       "      <td>21802</td>\n",
       "      <td>CHRISTMAS TREE HEART DECORATION</td>\n",
       "      <td>9</td>\n",
       "      <td>12/1/2010 14:32</td>\n",
       "      <td>0.43</td>\n",
       "      <td>NaN</td>\n",
       "      <td>United Kingdom</td>\n",
       "    </tr>\n",
       "    <tr>\n",
       "      <th>1451</th>\n",
       "      <td>536544</td>\n",
       "      <td>21803</td>\n",
       "      <td>CHRISTMAS TREE STAR DECORATION</td>\n",
       "      <td>11</td>\n",
       "      <td>12/1/2010 14:32</td>\n",
       "      <td>0.43</td>\n",
       "      <td>NaN</td>\n",
       "      <td>United Kingdom</td>\n",
       "    </tr>\n",
       "  </tbody>\n",
       "</table>\n",
       "</div>"
      ],
      "text/plain": [
       "     InvoiceNo StockCode                          Description  Quantity  \\\n",
       "622     536414     22139                                  NaN        56   \n",
       "1443    536544     21773      DECORATIVE ROSE BATHROOM BOTTLE         1   \n",
       "1444    536544     21774      DECORATIVE CATS BATHROOM BOTTLE         2   \n",
       "1445    536544     21786                   POLKADOT RAIN HAT          4   \n",
       "1446    536544     21787                RAIN PONCHO RETROSPOT         2   \n",
       "1447    536544     21790                   VINTAGE SNAP CARDS         9   \n",
       "1448    536544     21791   VINTAGE HEADS AND TAILS CARD GAME          2   \n",
       "1449    536544     21801  CHRISTMAS TREE DECORATION WITH BELL        10   \n",
       "1450    536544     21802      CHRISTMAS TREE HEART DECORATION         9   \n",
       "1451    536544     21803       CHRISTMAS TREE STAR DECORATION        11   \n",
       "\n",
       "          InvoiceDate  UnitPrice  CustomerID         Country  \n",
       "622   12/1/2010 11:52       0.00         NaN  United Kingdom  \n",
       "1443  12/1/2010 14:32       2.51         NaN  United Kingdom  \n",
       "1444  12/1/2010 14:32       2.51         NaN  United Kingdom  \n",
       "1445  12/1/2010 14:32       0.85         NaN  United Kingdom  \n",
       "1446  12/1/2010 14:32       1.66         NaN  United Kingdom  \n",
       "1447  12/1/2010 14:32       1.66         NaN  United Kingdom  \n",
       "1448  12/1/2010 14:32       2.51         NaN  United Kingdom  \n",
       "1449  12/1/2010 14:32       0.43         NaN  United Kingdom  \n",
       "1450  12/1/2010 14:32       0.43         NaN  United Kingdom  \n",
       "1451  12/1/2010 14:32       0.43         NaN  United Kingdom  "
      ]
     },
     "execution_count": 7,
     "metadata": {},
     "output_type": "execute_result"
    }
   ],
   "source": [
    "#check out the rows with missing values\n",
    "data[data.isnull().any(axis=1)].head(10)"
   ]
  },
  {
   "cell_type": "code",
   "execution_count": 8,
   "metadata": {
    "colab": {},
    "colab_type": "code",
    "id": "5btAV7fhjPt2",
    "scrolled": true
   },
   "outputs": [],
   "source": [
    "# change the invoice_date format i.e from String to Timestamp format\n",
    "data['InvoiceDate'] = pd.to_datetime(data.InvoiceDate, format='%m/%d/%Y %H:%M')"
   ]
  },
  {
   "cell_type": "code",
   "execution_count": 9,
   "metadata": {
    "colab": {
     "base_uri": "https://localhost:8080/",
     "height": 243
    },
    "colab_type": "code",
    "executionInfo": {
     "elapsed": 524,
     "status": "ok",
     "timestamp": 1574026678255,
     "user": {
      "displayName": "Rajeev Ratan",
      "photoUrl": "https://lh3.googleusercontent.com/a-/AAuE7mCGo6aIm0tOcd5EhqWlYb0rime9sBvHS9YMpx0D2w=s64",
      "userId": "08597265227091462140"
     },
     "user_tz": 0
    },
    "id": "WFCpWG0AjPt4",
    "outputId": "1794c82c-de35-46a3-9adf-02a444f13e2a",
    "scrolled": true
   },
   "outputs": [
    {
     "name": "stdout",
     "output_type": "stream",
     "text": [
      "<class 'pandas.core.frame.DataFrame'>\n",
      "RangeIndex: 541909 entries, 0 to 541908\n",
      "Data columns (total 8 columns):\n",
      " #   Column       Non-Null Count   Dtype         \n",
      "---  ------       --------------   -----         \n",
      " 0   InvoiceNo    541909 non-null  object        \n",
      " 1   StockCode    541909 non-null  object        \n",
      " 2   Description  540455 non-null  object        \n",
      " 3   Quantity     541909 non-null  int64         \n",
      " 4   InvoiceDate  541909 non-null  datetime64[ns]\n",
      " 5   UnitPrice    541909 non-null  float64       \n",
      " 6   CustomerID   406829 non-null  float64       \n",
      " 7   Country      541909 non-null  object        \n",
      "dtypes: datetime64[ns](1), float64(2), int64(1), object(4)\n",
      "memory usage: 33.1+ MB\n"
     ]
    }
   ],
   "source": [
    "data.info()"
   ]
  },
  {
   "cell_type": "code",
   "execution_count": 10,
   "metadata": {
    "colab": {},
    "colab_type": "code",
    "id": "Y_2kWM92jPt6",
    "scrolled": true
   },
   "outputs": [],
   "source": [
    "# df_new without missing values\n",
    "datanomiss = data.dropna()"
   ]
  },
  {
   "cell_type": "code",
   "execution_count": 11,
   "metadata": {
    "colab": {
     "base_uri": "https://localhost:8080/",
     "height": 173
    },
    "colab_type": "code",
    "executionInfo": {
     "elapsed": 414,
     "status": "ok",
     "timestamp": 1574026700295,
     "user": {
      "displayName": "Rajeev Ratan",
      "photoUrl": "https://lh3.googleusercontent.com/a-/AAuE7mCGo6aIm0tOcd5EhqWlYb0rime9sBvHS9YMpx0D2w=s64",
      "userId": "08597265227091462140"
     },
     "user_tz": 0
    },
    "id": "3aP3LierjPt9",
    "outputId": "ca10737b-b443-4e84-8bb8-d1ef24fb59f3",
    "scrolled": true
   },
   "outputs": [
    {
     "data": {
      "text/plain": [
       "Country        0\n",
       "CustomerID     0\n",
       "UnitPrice      0\n",
       "InvoiceDate    0\n",
       "Quantity       0\n",
       "Description    0\n",
       "StockCode      0\n",
       "InvoiceNo      0\n",
       "dtype: int64"
      ]
     },
     "execution_count": 11,
     "metadata": {},
     "output_type": "execute_result"
    }
   ],
   "source": [
    "# check missing values for each column \n",
    "datanomiss.isnull().sum().sort_values(ascending=False)"
   ]
  },
  {
   "cell_type": "code",
   "execution_count": 12,
   "metadata": {
    "colab": {},
    "colab_type": "code",
    "id": "mWUhaU81jPt_",
    "scrolled": true
   },
   "outputs": [],
   "source": [
    "# change columns tyoe - String to Int type \n",
    "datanomiss['CustomerID'] = datanomiss['CustomerID'].astype('int64')"
   ]
  },
  {
   "cell_type": "code",
   "execution_count": 13,
   "metadata": {
    "colab": {
     "base_uri": "https://localhost:8080/",
     "height": 202
    },
    "colab_type": "code",
    "executionInfo": {
     "elapsed": 388,
     "status": "ok",
     "timestamp": 1574026720893,
     "user": {
      "displayName": "Rajeev Ratan",
      "photoUrl": "https://lh3.googleusercontent.com/a-/AAuE7mCGo6aIm0tOcd5EhqWlYb0rime9sBvHS9YMpx0D2w=s64",
      "userId": "08597265227091462140"
     },
     "user_tz": 0
    },
    "id": "a_waiiAEjPuB",
    "outputId": "609d7a52-4a20-4a74-81a3-8b9c53069d45",
    "scrolled": true
   },
   "outputs": [
    {
     "data": {
      "text/html": [
       "<div>\n",
       "<style scoped>\n",
       "    .dataframe tbody tr th:only-of-type {\n",
       "        vertical-align: middle;\n",
       "    }\n",
       "\n",
       "    .dataframe tbody tr th {\n",
       "        vertical-align: top;\n",
       "    }\n",
       "\n",
       "    .dataframe thead th {\n",
       "        text-align: right;\n",
       "    }\n",
       "</style>\n",
       "<table border=\"1\" class=\"dataframe\">\n",
       "  <thead>\n",
       "    <tr style=\"text-align: right;\">\n",
       "      <th></th>\n",
       "      <th>InvoiceNo</th>\n",
       "      <th>StockCode</th>\n",
       "      <th>Description</th>\n",
       "      <th>Quantity</th>\n",
       "      <th>InvoiceDate</th>\n",
       "      <th>UnitPrice</th>\n",
       "      <th>CustomerID</th>\n",
       "      <th>Country</th>\n",
       "    </tr>\n",
       "  </thead>\n",
       "  <tbody>\n",
       "    <tr>\n",
       "      <th>0</th>\n",
       "      <td>536365</td>\n",
       "      <td>85123A</td>\n",
       "      <td>WHITE HANGING HEART T-LIGHT HOLDER</td>\n",
       "      <td>6</td>\n",
       "      <td>2010-12-01 08:26:00</td>\n",
       "      <td>2.55</td>\n",
       "      <td>17850</td>\n",
       "      <td>United Kingdom</td>\n",
       "    </tr>\n",
       "    <tr>\n",
       "      <th>1</th>\n",
       "      <td>536365</td>\n",
       "      <td>71053</td>\n",
       "      <td>WHITE METAL LANTERN</td>\n",
       "      <td>6</td>\n",
       "      <td>2010-12-01 08:26:00</td>\n",
       "      <td>3.39</td>\n",
       "      <td>17850</td>\n",
       "      <td>United Kingdom</td>\n",
       "    </tr>\n",
       "    <tr>\n",
       "      <th>2</th>\n",
       "      <td>536365</td>\n",
       "      <td>84406B</td>\n",
       "      <td>CREAM CUPID HEARTS COAT HANGER</td>\n",
       "      <td>8</td>\n",
       "      <td>2010-12-01 08:26:00</td>\n",
       "      <td>2.75</td>\n",
       "      <td>17850</td>\n",
       "      <td>United Kingdom</td>\n",
       "    </tr>\n",
       "    <tr>\n",
       "      <th>3</th>\n",
       "      <td>536365</td>\n",
       "      <td>84029G</td>\n",
       "      <td>KNITTED UNION FLAG HOT WATER BOTTLE</td>\n",
       "      <td>6</td>\n",
       "      <td>2010-12-01 08:26:00</td>\n",
       "      <td>3.39</td>\n",
       "      <td>17850</td>\n",
       "      <td>United Kingdom</td>\n",
       "    </tr>\n",
       "    <tr>\n",
       "      <th>4</th>\n",
       "      <td>536365</td>\n",
       "      <td>84029E</td>\n",
       "      <td>RED WOOLLY HOTTIE WHITE HEART.</td>\n",
       "      <td>6</td>\n",
       "      <td>2010-12-01 08:26:00</td>\n",
       "      <td>3.39</td>\n",
       "      <td>17850</td>\n",
       "      <td>United Kingdom</td>\n",
       "    </tr>\n",
       "  </tbody>\n",
       "</table>\n",
       "</div>"
      ],
      "text/plain": [
       "  InvoiceNo StockCode                          Description  Quantity  \\\n",
       "0    536365    85123A   WHITE HANGING HEART T-LIGHT HOLDER         6   \n",
       "1    536365     71053                  WHITE METAL LANTERN         6   \n",
       "2    536365    84406B       CREAM CUPID HEARTS COAT HANGER         8   \n",
       "3    536365    84029G  KNITTED UNION FLAG HOT WATER BOTTLE         6   \n",
       "4    536365    84029E       RED WOOLLY HOTTIE WHITE HEART.         6   \n",
       "\n",
       "          InvoiceDate  UnitPrice  CustomerID         Country  \n",
       "0 2010-12-01 08:26:00       2.55       17850  United Kingdom  \n",
       "1 2010-12-01 08:26:00       3.39       17850  United Kingdom  \n",
       "2 2010-12-01 08:26:00       2.75       17850  United Kingdom  \n",
       "3 2010-12-01 08:26:00       3.39       17850  United Kingdom  \n",
       "4 2010-12-01 08:26:00       3.39       17850  United Kingdom  "
      ]
     },
     "execution_count": 13,
     "metadata": {},
     "output_type": "execute_result"
    }
   ],
   "source": [
    "datanomiss.head()"
   ]
  },
  {
   "cell_type": "code",
   "execution_count": 14,
   "metadata": {
    "colab": {},
    "colab_type": "code",
    "id": "sCA8YJNyjPuD",
    "scrolled": true
   },
   "outputs": [],
   "source": [
    "# Rename the dataframe to make code more readable\n",
    "data2 = datanomiss.copy()"
   ]
  },
  {
   "cell_type": "code",
   "execution_count": 15,
   "metadata": {
    "colab": {
     "base_uri": "https://localhost:8080/",
     "height": 294
    },
    "colab_type": "code",
    "executionInfo": {
     "elapsed": 408,
     "status": "ok",
     "timestamp": 1574026740292,
     "user": {
      "displayName": "Rajeev Ratan",
      "photoUrl": "https://lh3.googleusercontent.com/a-/AAuE7mCGo6aIm0tOcd5EhqWlYb0rime9sBvHS9YMpx0D2w=s64",
      "userId": "08597265227091462140"
     },
     "user_tz": 0
    },
    "id": "L5JFTcgEjPuG",
    "outputId": "12594541-d9b1-435c-ab67-06e3a74fc55d",
    "scrolled": true
   },
   "outputs": [
    {
     "data": {
      "text/html": [
       "<div>\n",
       "<style scoped>\n",
       "    .dataframe tbody tr th:only-of-type {\n",
       "        vertical-align: middle;\n",
       "    }\n",
       "\n",
       "    .dataframe tbody tr th {\n",
       "        vertical-align: top;\n",
       "    }\n",
       "\n",
       "    .dataframe thead th {\n",
       "        text-align: right;\n",
       "    }\n",
       "</style>\n",
       "<table border=\"1\" class=\"dataframe\">\n",
       "  <thead>\n",
       "    <tr style=\"text-align: right;\">\n",
       "      <th></th>\n",
       "      <th>InvoiceNo</th>\n",
       "      <th>StockCode</th>\n",
       "      <th>Description</th>\n",
       "      <th>Country</th>\n",
       "    </tr>\n",
       "  </thead>\n",
       "  <tbody>\n",
       "    <tr>\n",
       "      <th>count</th>\n",
       "      <td>406829</td>\n",
       "      <td>406829</td>\n",
       "      <td>406829</td>\n",
       "      <td>406829</td>\n",
       "    </tr>\n",
       "    <tr>\n",
       "      <th>unique</th>\n",
       "      <td>22190</td>\n",
       "      <td>3684</td>\n",
       "      <td>3896</td>\n",
       "      <td>37</td>\n",
       "    </tr>\n",
       "    <tr>\n",
       "      <th>top</th>\n",
       "      <td>576339</td>\n",
       "      <td>85123A</td>\n",
       "      <td>WHITE HANGING HEART T-LIGHT HOLDER</td>\n",
       "      <td>United Kingdom</td>\n",
       "    </tr>\n",
       "    <tr>\n",
       "      <th>freq</th>\n",
       "      <td>542</td>\n",
       "      <td>2077</td>\n",
       "      <td>2070</td>\n",
       "      <td>361878</td>\n",
       "    </tr>\n",
       "  </tbody>\n",
       "</table>\n",
       "</div>"
      ],
      "text/plain": [
       "       InvoiceNo StockCode                         Description         Country\n",
       "count     406829    406829                              406829          406829\n",
       "unique     22190      3684                                3896              37\n",
       "top       576339    85123A  WHITE HANGING HEART T-LIGHT HOLDER  United Kingdom\n",
       "freq         542      2077                                2070          361878"
      ]
     },
     "execution_count": 15,
     "metadata": {},
     "output_type": "execute_result"
    }
   ],
   "source": [
    "#stats of categorical columns\n",
    "data2.describe(include='O').round(2)"
   ]
  },
  {
   "cell_type": "code",
   "execution_count": 16,
   "metadata": {
    "scrolled": true
   },
   "outputs": [
    {
     "data": {
      "text/html": [
       "<div>\n",
       "<style scoped>\n",
       "    .dataframe tbody tr th:only-of-type {\n",
       "        vertical-align: middle;\n",
       "    }\n",
       "\n",
       "    .dataframe tbody tr th {\n",
       "        vertical-align: top;\n",
       "    }\n",
       "\n",
       "    .dataframe thead th {\n",
       "        text-align: right;\n",
       "    }\n",
       "</style>\n",
       "<table border=\"1\" class=\"dataframe\">\n",
       "  <thead>\n",
       "    <tr style=\"text-align: right;\">\n",
       "      <th></th>\n",
       "      <th>Quantity</th>\n",
       "      <th>UnitPrice</th>\n",
       "      <th>CustomerID</th>\n",
       "    </tr>\n",
       "  </thead>\n",
       "  <tbody>\n",
       "    <tr>\n",
       "      <th>count</th>\n",
       "      <td>406829.00</td>\n",
       "      <td>406829.00</td>\n",
       "      <td>406829.00</td>\n",
       "    </tr>\n",
       "    <tr>\n",
       "      <th>mean</th>\n",
       "      <td>12.06</td>\n",
       "      <td>3.46</td>\n",
       "      <td>15287.69</td>\n",
       "    </tr>\n",
       "    <tr>\n",
       "      <th>std</th>\n",
       "      <td>248.69</td>\n",
       "      <td>69.32</td>\n",
       "      <td>1713.60</td>\n",
       "    </tr>\n",
       "    <tr>\n",
       "      <th>min</th>\n",
       "      <td>-80995.00</td>\n",
       "      <td>0.00</td>\n",
       "      <td>12346.00</td>\n",
       "    </tr>\n",
       "    <tr>\n",
       "      <th>25%</th>\n",
       "      <td>2.00</td>\n",
       "      <td>1.25</td>\n",
       "      <td>13953.00</td>\n",
       "    </tr>\n",
       "    <tr>\n",
       "      <th>50%</th>\n",
       "      <td>5.00</td>\n",
       "      <td>1.95</td>\n",
       "      <td>15152.00</td>\n",
       "    </tr>\n",
       "    <tr>\n",
       "      <th>75%</th>\n",
       "      <td>12.00</td>\n",
       "      <td>3.75</td>\n",
       "      <td>16791.00</td>\n",
       "    </tr>\n",
       "    <tr>\n",
       "      <th>max</th>\n",
       "      <td>80995.00</td>\n",
       "      <td>38970.00</td>\n",
       "      <td>18287.00</td>\n",
       "    </tr>\n",
       "  </tbody>\n",
       "</table>\n",
       "</div>"
      ],
      "text/plain": [
       "        Quantity  UnitPrice  CustomerID\n",
       "count  406829.00  406829.00   406829.00\n",
       "mean       12.06       3.46    15287.69\n",
       "std       248.69      69.32     1713.60\n",
       "min    -80995.00       0.00    12346.00\n",
       "25%         2.00       1.25    13953.00\n",
       "50%         5.00       1.95    15152.00\n",
       "75%        12.00       3.75    16791.00\n",
       "max     80995.00   38970.00    18287.00"
      ]
     },
     "execution_count": 16,
     "metadata": {},
     "output_type": "execute_result"
    }
   ],
   "source": [
    "#stats of numerical columns\n",
    "data2.describe().round(2)"
   ]
  },
  {
   "cell_type": "code",
   "execution_count": 17,
   "metadata": {
    "colab": {
     "base_uri": "https://localhost:8080/",
     "height": 285
    },
    "colab_type": "code",
    "executionInfo": {
     "elapsed": 1827,
     "status": "ok",
     "timestamp": 1574026775272,
     "user": {
      "displayName": "Rajeev Ratan",
      "photoUrl": "https://lh3.googleusercontent.com/a-/AAuE7mCGo6aIm0tOcd5EhqWlYb0rime9sBvHS9YMpx0D2w=s64",
      "userId": "08597265227091462140"
     },
     "user_tz": 0
    },
    "id": "p_BMzLj9jPuI",
    "outputId": "47c51f23-8c45-4a6c-ae89-ae2c58f2b054",
    "scrolled": true
   },
   "outputs": [
    {
     "data": {
      "image/png": "[encoded data removed]",
      "text/plain": [
       "<Figure size 432x288 with 1 Axes>"
      ]
     },
     "metadata": {},
     "output_type": "display_data"
    }
   ],
   "source": [
    "sns.set(style=\"whitegrid\")\n",
    "ax = sns.violinplot(x=data[\"Quantity\"])"
   ]
  },
  {
   "cell_type": "markdown",
   "metadata": {},
   "source": [
    "#### We see that quantity is in negative so we will remove the negative quantaties"
   ]
  },
  {
   "cell_type": "code",
   "execution_count": 18,
   "metadata": {
    "colab": {
     "base_uri": "https://localhost:8080/",
     "height": 294
    },
    "colab_type": "code",
    "executionInfo": {
     "elapsed": 444,
     "status": "ok",
     "timestamp": 1574026789085,
     "user": {
      "displayName": "Rajeev Ratan",
      "photoUrl": "https://lh3.googleusercontent.com/a-/AAuE7mCGo6aIm0tOcd5EhqWlYb0rime9sBvHS9YMpx0D2w=s64",
      "userId": "08597265227091462140"
     },
     "user_tz": 0
    },
    "id": "BjIyqT_CjPuL",
    "outputId": "8db83e2d-e983-4827-b6a7-38da9e4857e0",
    "scrolled": true
   },
   "outputs": [
    {
     "data": {
      "text/html": [
       "<div>\n",
       "<style scoped>\n",
       "    .dataframe tbody tr th:only-of-type {\n",
       "        vertical-align: middle;\n",
       "    }\n",
       "\n",
       "    .dataframe tbody tr th {\n",
       "        vertical-align: top;\n",
       "    }\n",
       "\n",
       "    .dataframe thead th {\n",
       "        text-align: right;\n",
       "    }\n",
       "</style>\n",
       "<table border=\"1\" class=\"dataframe\">\n",
       "  <thead>\n",
       "    <tr style=\"text-align: right;\">\n",
       "      <th></th>\n",
       "      <th>Quantity</th>\n",
       "      <th>UnitPrice</th>\n",
       "      <th>CustomerID</th>\n",
       "    </tr>\n",
       "  </thead>\n",
       "  <tbody>\n",
       "    <tr>\n",
       "      <th>count</th>\n",
       "      <td>397924.00</td>\n",
       "      <td>397924.00</td>\n",
       "      <td>397924.00</td>\n",
       "    </tr>\n",
       "    <tr>\n",
       "      <th>mean</th>\n",
       "      <td>13.02</td>\n",
       "      <td>3.12</td>\n",
       "      <td>15294.32</td>\n",
       "    </tr>\n",
       "    <tr>\n",
       "      <th>std</th>\n",
       "      <td>180.42</td>\n",
       "      <td>22.10</td>\n",
       "      <td>1713.17</td>\n",
       "    </tr>\n",
       "    <tr>\n",
       "      <th>min</th>\n",
       "      <td>1.00</td>\n",
       "      <td>0.00</td>\n",
       "      <td>12346.00</td>\n",
       "    </tr>\n",
       "    <tr>\n",
       "      <th>25%</th>\n",
       "      <td>2.00</td>\n",
       "      <td>1.25</td>\n",
       "      <td>13969.00</td>\n",
       "    </tr>\n",
       "    <tr>\n",
       "      <th>50%</th>\n",
       "      <td>6.00</td>\n",
       "      <td>1.95</td>\n",
       "      <td>15159.00</td>\n",
       "    </tr>\n",
       "    <tr>\n",
       "      <th>75%</th>\n",
       "      <td>12.00</td>\n",
       "      <td>3.75</td>\n",
       "      <td>16795.00</td>\n",
       "    </tr>\n",
       "    <tr>\n",
       "      <th>max</th>\n",
       "      <td>80995.00</td>\n",
       "      <td>8142.75</td>\n",
       "      <td>18287.00</td>\n",
       "    </tr>\n",
       "  </tbody>\n",
       "</table>\n",
       "</div>"
      ],
      "text/plain": [
       "        Quantity  UnitPrice  CustomerID\n",
       "count  397924.00  397924.00   397924.00\n",
       "mean       13.02       3.12    15294.32\n",
       "std       180.42      22.10     1713.17\n",
       "min         1.00       0.00    12346.00\n",
       "25%         2.00       1.25    13969.00\n",
       "50%         6.00       1.95    15159.00\n",
       "75%        12.00       3.75    16795.00\n",
       "max     80995.00    8142.75    18287.00"
      ]
     },
     "execution_count": 18,
     "metadata": {},
     "output_type": "execute_result"
    }
   ],
   "source": [
    "# remove negative quanitites\n",
    "\n",
    "data2 = data2[data2.Quantity > 0]\n",
    "data2.describe().round(2)"
   ]
  },
  {
   "cell_type": "code",
   "execution_count": 19,
   "metadata": {
    "colab": {
     "base_uri": "https://localhost:8080/",
     "height": 285
    },
    "colab_type": "code",
    "executionInfo": {
     "elapsed": 1966,
     "status": "ok",
     "timestamp": 1574026801817,
     "user": {
      "displayName": "Rajeev Ratan",
      "photoUrl": "https://lh3.googleusercontent.com/a-/AAuE7mCGo6aIm0tOcd5EhqWlYb0rime9sBvHS9YMpx0D2w=s64",
      "userId": "08597265227091462140"
     },
     "user_tz": 0
    },
    "id": "4SezkFlmjPuN",
    "outputId": "ae3f5bfe-8b13-4c3a-d4dd-172efa162163",
    "scrolled": true
   },
   "outputs": [
    {
     "data": {
      "image/png": "[encoded data removed]",
      "text/plain": [
       "<Figure size 432x288 with 1 Axes>"
      ]
     },
     "metadata": {},
     "output_type": "display_data"
    }
   ],
   "source": [
    "ax = sns.violinplot(x=data2[\"Quantity\"])"
   ]
  },
  {
   "cell_type": "code",
   "execution_count": 20,
   "metadata": {
    "colab": {
     "base_uri": "https://localhost:8080/",
     "height": 202
    },
    "colab_type": "code",
    "executionInfo": {
     "elapsed": 426,
     "status": "ok",
     "timestamp": 1574026817333,
     "user": {
      "displayName": "Rajeev Ratan",
      "photoUrl": "https://lh3.googleusercontent.com/a-/AAuE7mCGo6aIm0tOcd5EhqWlYb0rime9sBvHS9YMpx0D2w=s64",
      "userId": "08597265227091462140"
     },
     "user_tz": 0
    },
    "id": "l31Fdml-jPuQ",
    "outputId": "bec65d40-4e64-4f22-81a2-58938b056816",
    "scrolled": true
   },
   "outputs": [
    {
     "data": {
      "text/html": [
       "<div>\n",
       "<style scoped>\n",
       "    .dataframe tbody tr th:only-of-type {\n",
       "        vertical-align: middle;\n",
       "    }\n",
       "\n",
       "    .dataframe tbody tr th {\n",
       "        vertical-align: top;\n",
       "    }\n",
       "\n",
       "    .dataframe thead th {\n",
       "        text-align: right;\n",
       "    }\n",
       "</style>\n",
       "<table border=\"1\" class=\"dataframe\">\n",
       "  <thead>\n",
       "    <tr style=\"text-align: right;\">\n",
       "      <th></th>\n",
       "      <th>InvoiceNo</th>\n",
       "      <th>StockCode</th>\n",
       "      <th>Description</th>\n",
       "      <th>Quantity</th>\n",
       "      <th>InvoiceDate</th>\n",
       "      <th>UnitPrice</th>\n",
       "      <th>CustomerID</th>\n",
       "      <th>Country</th>\n",
       "      <th>AmountSpent</th>\n",
       "    </tr>\n",
       "  </thead>\n",
       "  <tbody>\n",
       "    <tr>\n",
       "      <th>0</th>\n",
       "      <td>536365</td>\n",
       "      <td>85123A</td>\n",
       "      <td>WHITE HANGING HEART T-LIGHT HOLDER</td>\n",
       "      <td>6</td>\n",
       "      <td>2010-12-01 08:26:00</td>\n",
       "      <td>2.55</td>\n",
       "      <td>17850</td>\n",
       "      <td>United Kingdom</td>\n",
       "      <td>15.30</td>\n",
       "    </tr>\n",
       "    <tr>\n",
       "      <th>1</th>\n",
       "      <td>536365</td>\n",
       "      <td>71053</td>\n",
       "      <td>WHITE METAL LANTERN</td>\n",
       "      <td>6</td>\n",
       "      <td>2010-12-01 08:26:00</td>\n",
       "      <td>3.39</td>\n",
       "      <td>17850</td>\n",
       "      <td>United Kingdom</td>\n",
       "      <td>20.34</td>\n",
       "    </tr>\n",
       "    <tr>\n",
       "      <th>2</th>\n",
       "      <td>536365</td>\n",
       "      <td>84406B</td>\n",
       "      <td>CREAM CUPID HEARTS COAT HANGER</td>\n",
       "      <td>8</td>\n",
       "      <td>2010-12-01 08:26:00</td>\n",
       "      <td>2.75</td>\n",
       "      <td>17850</td>\n",
       "      <td>United Kingdom</td>\n",
       "      <td>22.00</td>\n",
       "    </tr>\n",
       "    <tr>\n",
       "      <th>3</th>\n",
       "      <td>536365</td>\n",
       "      <td>84029G</td>\n",
       "      <td>KNITTED UNION FLAG HOT WATER BOTTLE</td>\n",
       "      <td>6</td>\n",
       "      <td>2010-12-01 08:26:00</td>\n",
       "      <td>3.39</td>\n",
       "      <td>17850</td>\n",
       "      <td>United Kingdom</td>\n",
       "      <td>20.34</td>\n",
       "    </tr>\n",
       "    <tr>\n",
       "      <th>4</th>\n",
       "      <td>536365</td>\n",
       "      <td>84029E</td>\n",
       "      <td>RED WOOLLY HOTTIE WHITE HEART.</td>\n",
       "      <td>6</td>\n",
       "      <td>2010-12-01 08:26:00</td>\n",
       "      <td>3.39</td>\n",
       "      <td>17850</td>\n",
       "      <td>United Kingdom</td>\n",
       "      <td>20.34</td>\n",
       "    </tr>\n",
       "  </tbody>\n",
       "</table>\n",
       "</div>"
      ],
      "text/plain": [
       "  InvoiceNo StockCode                          Description  Quantity  \\\n",
       "0    536365    85123A   WHITE HANGING HEART T-LIGHT HOLDER         6   \n",
       "1    536365     71053                  WHITE METAL LANTERN         6   \n",
       "2    536365    84406B       CREAM CUPID HEARTS COAT HANGER         8   \n",
       "3    536365    84029G  KNITTED UNION FLAG HOT WATER BOTTLE         6   \n",
       "4    536365    84029E       RED WOOLLY HOTTIE WHITE HEART.         6   \n",
       "\n",
       "          InvoiceDate  UnitPrice  CustomerID         Country  AmountSpent  \n",
       "0 2010-12-01 08:26:00       2.55       17850  United Kingdom        15.30  \n",
       "1 2010-12-01 08:26:00       3.39       17850  United Kingdom        20.34  \n",
       "2 2010-12-01 08:26:00       2.75       17850  United Kingdom        22.00  \n",
       "3 2010-12-01 08:26:00       3.39       17850  United Kingdom        20.34  \n",
       "4 2010-12-01 08:26:00       3.39       17850  United Kingdom        20.34  "
      ]
     },
     "execution_count": 20,
     "metadata": {},
     "output_type": "execute_result"
    }
   ],
   "source": [
    "data2['AmountSpent'] = data2['Quantity'] * data2['UnitPrice']\n",
    "data2.head()"
   ]
  },
  {
   "cell_type": "code",
   "execution_count": 21,
   "metadata": {
    "colab": {
     "base_uri": "https://localhost:8080/",
     "height": 289
    },
    "colab_type": "code",
    "executionInfo": {
     "elapsed": 631,
     "status": "ok",
     "timestamp": 1574026842556,
     "user": {
      "displayName": "Rajeev Ratan",
      "photoUrl": "https://lh3.googleusercontent.com/a-/AAuE7mCGo6aIm0tOcd5EhqWlYb0rime9sBvHS9YMpx0D2w=s64",
      "userId": "08597265227091462140"
     },
     "user_tz": 0
    },
    "id": "jppmOeR6jPuS",
    "outputId": "6ccbc831-7a66-42e0-f51f-1a635600b982",
    "scrolled": true
   },
   "outputs": [
    {
     "data": {
      "text/html": [
       "<div>\n",
       "<style scoped>\n",
       "    .dataframe tbody tr th:only-of-type {\n",
       "        vertical-align: middle;\n",
       "    }\n",
       "\n",
       "    .dataframe tbody tr th {\n",
       "        vertical-align: top;\n",
       "    }\n",
       "\n",
       "    .dataframe thead th {\n",
       "        text-align: right;\n",
       "    }\n",
       "</style>\n",
       "<table border=\"1\" class=\"dataframe\">\n",
       "  <thead>\n",
       "    <tr style=\"text-align: right;\">\n",
       "      <th></th>\n",
       "      <th>InvoiceNo</th>\n",
       "      <th>StockCode</th>\n",
       "      <th>Description</th>\n",
       "      <th>Quantity</th>\n",
       "      <th>InvoiceDate</th>\n",
       "      <th>UnitPrice</th>\n",
       "      <th>CustomerID</th>\n",
       "      <th>Country</th>\n",
       "      <th>AmountSpent</th>\n",
       "      <th>month_year</th>\n",
       "    </tr>\n",
       "  </thead>\n",
       "  <tbody>\n",
       "    <tr>\n",
       "      <th>0</th>\n",
       "      <td>536365</td>\n",
       "      <td>85123A</td>\n",
       "      <td>WHITE HANGING HEART T-LIGHT HOLDER</td>\n",
       "      <td>6</td>\n",
       "      <td>2010-12-01 08:26:00</td>\n",
       "      <td>2.55</td>\n",
       "      <td>17850</td>\n",
       "      <td>United Kingdom</td>\n",
       "      <td>15.30</td>\n",
       "      <td>2010-12</td>\n",
       "    </tr>\n",
       "    <tr>\n",
       "      <th>1</th>\n",
       "      <td>536365</td>\n",
       "      <td>71053</td>\n",
       "      <td>WHITE METAL LANTERN</td>\n",
       "      <td>6</td>\n",
       "      <td>2010-12-01 08:26:00</td>\n",
       "      <td>3.39</td>\n",
       "      <td>17850</td>\n",
       "      <td>United Kingdom</td>\n",
       "      <td>20.34</td>\n",
       "      <td>2010-12</td>\n",
       "    </tr>\n",
       "    <tr>\n",
       "      <th>2</th>\n",
       "      <td>536365</td>\n",
       "      <td>84406B</td>\n",
       "      <td>CREAM CUPID HEARTS COAT HANGER</td>\n",
       "      <td>8</td>\n",
       "      <td>2010-12-01 08:26:00</td>\n",
       "      <td>2.75</td>\n",
       "      <td>17850</td>\n",
       "      <td>United Kingdom</td>\n",
       "      <td>22.00</td>\n",
       "      <td>2010-12</td>\n",
       "    </tr>\n",
       "    <tr>\n",
       "      <th>3</th>\n",
       "      <td>536365</td>\n",
       "      <td>84029G</td>\n",
       "      <td>KNITTED UNION FLAG HOT WATER BOTTLE</td>\n",
       "      <td>6</td>\n",
       "      <td>2010-12-01 08:26:00</td>\n",
       "      <td>3.39</td>\n",
       "      <td>17850</td>\n",
       "      <td>United Kingdom</td>\n",
       "      <td>20.34</td>\n",
       "      <td>2010-12</td>\n",
       "    </tr>\n",
       "    <tr>\n",
       "      <th>4</th>\n",
       "      <td>536365</td>\n",
       "      <td>84029E</td>\n",
       "      <td>RED WOOLLY HOTTIE WHITE HEART.</td>\n",
       "      <td>6</td>\n",
       "      <td>2010-12-01 08:26:00</td>\n",
       "      <td>3.39</td>\n",
       "      <td>17850</td>\n",
       "      <td>United Kingdom</td>\n",
       "      <td>20.34</td>\n",
       "      <td>2010-12</td>\n",
       "    </tr>\n",
       "  </tbody>\n",
       "</table>\n",
       "</div>"
      ],
      "text/plain": [
       "  InvoiceNo StockCode                          Description  Quantity  \\\n",
       "0    536365    85123A   WHITE HANGING HEART T-LIGHT HOLDER         6   \n",
       "1    536365     71053                  WHITE METAL LANTERN         6   \n",
       "2    536365    84406B       CREAM CUPID HEARTS COAT HANGER         8   \n",
       "3    536365    84029G  KNITTED UNION FLAG HOT WATER BOTTLE         6   \n",
       "4    536365    84029E       RED WOOLLY HOTTIE WHITE HEART.         6   \n",
       "\n",
       "          InvoiceDate  UnitPrice  CustomerID         Country  AmountSpent  \\\n",
       "0 2010-12-01 08:26:00       2.55       17850  United Kingdom        15.30   \n",
       "1 2010-12-01 08:26:00       3.39       17850  United Kingdom        20.34   \n",
       "2 2010-12-01 08:26:00       2.75       17850  United Kingdom        22.00   \n",
       "3 2010-12-01 08:26:00       3.39       17850  United Kingdom        20.34   \n",
       "4 2010-12-01 08:26:00       3.39       17850  United Kingdom        20.34   \n",
       "\n",
       "  month_year  \n",
       "0    2010-12  \n",
       "1    2010-12  \n",
       "2    2010-12  \n",
       "3    2010-12  \n",
       "4    2010-12  "
      ]
     },
     "execution_count": 21,
     "metadata": {},
     "output_type": "execute_result"
    }
   ],
   "source": [
    "# Let's add Month, Day and Hour Colummns that we'll use for further analysis\n",
    "# Starting with Month_Year First\n",
    "data2['month_year'] = data2['InvoiceDate'].dt.to_period('M')\n",
    "data2.head()"
   ]
  },
  {
   "cell_type": "code",
   "execution_count": 22,
   "metadata": {
    "colab": {
     "base_uri": "https://localhost:8080/",
     "height": 499
    },
    "colab_type": "code",
    "executionInfo": {
     "elapsed": 821,
     "status": "ok",
     "timestamp": 1574026874748,
     "user": {
      "displayName": "Rajeev Ratan",
      "photoUrl": "https://lh3.googleusercontent.com/a-/AAuE7mCGo6aIm0tOcd5EhqWlYb0rime9sBvHS9YMpx0D2w=s64",
      "userId": "08597265227091462140"
     },
     "user_tz": 0
    },
    "id": "XPWmEckvjPuU",
    "outputId": "8082110e-25f1-40f2-b1c3-eb99f59d0dd9",
    "scrolled": true
   },
   "outputs": [
    {
     "data": {
      "text/html": [
       "<div>\n",
       "<style scoped>\n",
       "    .dataframe tbody tr th:only-of-type {\n",
       "        vertical-align: middle;\n",
       "    }\n",
       "\n",
       "    .dataframe tbody tr th {\n",
       "        vertical-align: top;\n",
       "    }\n",
       "\n",
       "    .dataframe thead th {\n",
       "        text-align: right;\n",
       "    }\n",
       "</style>\n",
       "<table border=\"1\" class=\"dataframe\">\n",
       "  <thead>\n",
       "    <tr style=\"text-align: right;\">\n",
       "      <th></th>\n",
       "      <th>InvoiceNo</th>\n",
       "      <th>StockCode</th>\n",
       "      <th>Description</th>\n",
       "      <th>Quantity</th>\n",
       "      <th>InvoiceDate</th>\n",
       "      <th>UnitPrice</th>\n",
       "      <th>CustomerID</th>\n",
       "      <th>Country</th>\n",
       "      <th>AmountSpent</th>\n",
       "      <th>month_year</th>\n",
       "      <th>year</th>\n",
       "      <th>month</th>\n",
       "      <th>day</th>\n",
       "      <th>dayofweek</th>\n",
       "      <th>dayofyear</th>\n",
       "      <th>weekofyear</th>\n",
       "      <th>quarter</th>\n",
       "    </tr>\n",
       "  </thead>\n",
       "  <tbody>\n",
       "    <tr>\n",
       "      <th>0</th>\n",
       "      <td>536365</td>\n",
       "      <td>85123A</td>\n",
       "      <td>WHITE HANGING HEART T-LIGHT HOLDER</td>\n",
       "      <td>6</td>\n",
       "      <td>2010-12-01 08:26:00</td>\n",
       "      <td>2.55</td>\n",
       "      <td>17850</td>\n",
       "      <td>United Kingdom</td>\n",
       "      <td>15.30</td>\n",
       "      <td>2010-12</td>\n",
       "      <td>2010</td>\n",
       "      <td>12</td>\n",
       "      <td>1</td>\n",
       "      <td>2</td>\n",
       "      <td>335</td>\n",
       "      <td>48</td>\n",
       "      <td>4</td>\n",
       "    </tr>\n",
       "    <tr>\n",
       "      <th>1</th>\n",
       "      <td>536365</td>\n",
       "      <td>71053</td>\n",
       "      <td>WHITE METAL LANTERN</td>\n",
       "      <td>6</td>\n",
       "      <td>2010-12-01 08:26:00</td>\n",
       "      <td>3.39</td>\n",
       "      <td>17850</td>\n",
       "      <td>United Kingdom</td>\n",
       "      <td>20.34</td>\n",
       "      <td>2010-12</td>\n",
       "      <td>2010</td>\n",
       "      <td>12</td>\n",
       "      <td>1</td>\n",
       "      <td>2</td>\n",
       "      <td>335</td>\n",
       "      <td>48</td>\n",
       "      <td>4</td>\n",
       "    </tr>\n",
       "    <tr>\n",
       "      <th>2</th>\n",
       "      <td>536365</td>\n",
       "      <td>84406B</td>\n",
       "      <td>CREAM CUPID HEARTS COAT HANGER</td>\n",
       "      <td>8</td>\n",
       "      <td>2010-12-01 08:26:00</td>\n",
       "      <td>2.75</td>\n",
       "      <td>17850</td>\n",
       "      <td>United Kingdom</td>\n",
       "      <td>22.00</td>\n",
       "      <td>2010-12</td>\n",
       "      <td>2010</td>\n",
       "      <td>12</td>\n",
       "      <td>1</td>\n",
       "      <td>2</td>\n",
       "      <td>335</td>\n",
       "      <td>48</td>\n",
       "      <td>4</td>\n",
       "    </tr>\n",
       "    <tr>\n",
       "      <th>3</th>\n",
       "      <td>536365</td>\n",
       "      <td>84029G</td>\n",
       "      <td>KNITTED UNION FLAG HOT WATER BOTTLE</td>\n",
       "      <td>6</td>\n",
       "      <td>2010-12-01 08:26:00</td>\n",
       "      <td>3.39</td>\n",
       "      <td>17850</td>\n",
       "      <td>United Kingdom</td>\n",
       "      <td>20.34</td>\n",
       "      <td>2010-12</td>\n",
       "      <td>2010</td>\n",
       "      <td>12</td>\n",
       "      <td>1</td>\n",
       "      <td>2</td>\n",
       "      <td>335</td>\n",
       "      <td>48</td>\n",
       "      <td>4</td>\n",
       "    </tr>\n",
       "    <tr>\n",
       "      <th>4</th>\n",
       "      <td>536365</td>\n",
       "      <td>84029E</td>\n",
       "      <td>RED WOOLLY HOTTIE WHITE HEART.</td>\n",
       "      <td>6</td>\n",
       "      <td>2010-12-01 08:26:00</td>\n",
       "      <td>3.39</td>\n",
       "      <td>17850</td>\n",
       "      <td>United Kingdom</td>\n",
       "      <td>20.34</td>\n",
       "      <td>2010-12</td>\n",
       "      <td>2010</td>\n",
       "      <td>12</td>\n",
       "      <td>1</td>\n",
       "      <td>2</td>\n",
       "      <td>335</td>\n",
       "      <td>48</td>\n",
       "      <td>4</td>\n",
       "    </tr>\n",
       "  </tbody>\n",
       "</table>\n",
       "</div>"
      ],
      "text/plain": [
       "  InvoiceNo StockCode                          Description  Quantity  \\\n",
       "0    536365    85123A   WHITE HANGING HEART T-LIGHT HOLDER         6   \n",
       "1    536365     71053                  WHITE METAL LANTERN         6   \n",
       "2    536365    84406B       CREAM CUPID HEARTS COAT HANGER         8   \n",
       "3    536365    84029G  KNITTED UNION FLAG HOT WATER BOTTLE         6   \n",
       "4    536365    84029E       RED WOOLLY HOTTIE WHITE HEART.         6   \n",
       "\n",
       "          InvoiceDate  UnitPrice  CustomerID         Country  AmountSpent  \\\n",
       "0 2010-12-01 08:26:00       2.55       17850  United Kingdom        15.30   \n",
       "1 2010-12-01 08:26:00       3.39       17850  United Kingdom        20.34   \n",
       "2 2010-12-01 08:26:00       2.75       17850  United Kingdom        22.00   \n",
       "3 2010-12-01 08:26:00       3.39       17850  United Kingdom        20.34   \n",
       "4 2010-12-01 08:26:00       3.39       17850  United Kingdom        20.34   \n",
       "\n",
       "  month_year  year  month  day  dayofweek  dayofyear  weekofyear  quarter  \n",
       "0    2010-12  2010     12    1          2        335          48        4  \n",
       "1    2010-12  2010     12    1          2        335          48        4  \n",
       "2    2010-12  2010     12    1          2        335          48        4  \n",
       "3    2010-12  2010     12    1          2        335          48        4  \n",
       "4    2010-12  2010     12    1          2        335          48        4  "
      ]
     },
     "execution_count": 22,
     "metadata": {},
     "output_type": "execute_result"
    }
   ],
   "source": [
    "# adding other useful date attributes\n",
    "L = ['year', 'month', 'day', 'dayofweek', 'dayofyear', 'weekofyear', 'quarter']\n",
    "data2 = data2.join(pd.concat((getattr(data2['InvoiceDate'].dt, i).rename(i) for i in L), axis=1))\n",
    "data2.head()"
   ]
  },
  {
   "cell_type": "code",
   "execution_count": 23,
   "metadata": {
    "colab": {
     "base_uri": "https://localhost:8080/",
     "height": 35
    },
    "colab_type": "code",
    "executionInfo": {
     "elapsed": 865,
     "status": "ok",
     "timestamp": 1574026955228,
     "user": {
      "displayName": "Rajeev Ratan",
      "photoUrl": "https://lh3.googleusercontent.com/a-/AAuE7mCGo6aIm0tOcd5EhqWlYb0rime9sBvHS9YMpx0D2w=s64",
      "userId": "08597265227091462140"
     },
     "user_tz": 0
    },
    "id": "X7fpBStljPuY",
    "outputId": "4212ed8f-8417-4483-ce81-aa81163692dd",
    "scrolled": true
   },
   "outputs": [
    {
     "data": {
      "text/plain": [
       "array([2, 3, 4, 6, 0, 1], dtype=int64)"
      ]
     },
     "execution_count": 23,
     "metadata": {},
     "output_type": "execute_result"
    }
   ],
   "source": [
    "data2.dayofweek.unique()"
   ]
  },
  {
   "cell_type": "code",
   "execution_count": 24,
   "metadata": {
    "scrolled": true
   },
   "outputs": [
    {
     "data": {
      "text/plain": [
       "array([2010, 2011], dtype=int64)"
      ]
     },
     "execution_count": 24,
     "metadata": {},
     "output_type": "execute_result"
    }
   ],
   "source": [
    "data2.year.unique()"
   ]
  },
  {
   "cell_type": "code",
   "execution_count": 25,
   "metadata": {
    "colab": {
     "base_uri": "https://localhost:8080/",
     "height": 399
    },
    "colab_type": "code",
    "executionInfo": {
     "elapsed": 854,
     "status": "ok",
     "timestamp": 1574026963244,
     "user": {
      "displayName": "Rajeev Ratan",
      "photoUrl": "https://lh3.googleusercontent.com/a-/AAuE7mCGo6aIm0tOcd5EhqWlYb0rime9sBvHS9YMpx0D2w=s64",
      "userId": "08597265227091462140"
     },
     "user_tz": 0
    },
    "id": "N_rdGz80jPub",
    "outputId": "016f1bce-57cc-422f-cb22-63cb105ae604",
    "scrolled": true
   },
   "outputs": [
    {
     "name": "stdout",
     "output_type": "stream",
     "text": [
      "<class 'pandas.core.frame.DataFrame'>\n",
      "Int64Index: 397924 entries, 0 to 541908\n",
      "Data columns (total 17 columns):\n",
      " #   Column       Non-Null Count   Dtype         \n",
      "---  ------       --------------   -----         \n",
      " 0   InvoiceNo    397924 non-null  object        \n",
      " 1   StockCode    397924 non-null  object        \n",
      " 2   Description  397924 non-null  object        \n",
      " 3   Quantity     397924 non-null  int64         \n",
      " 4   InvoiceDate  397924 non-null  datetime64[ns]\n",
      " 5   UnitPrice    397924 non-null  float64       \n",
      " 6   CustomerID   397924 non-null  int64         \n",
      " 7   Country      397924 non-null  object        \n",
      " 8   AmountSpent  397924 non-null  float64       \n",
      " 9   month_year   397924 non-null  period[M]     \n",
      " 10  year         397924 non-null  int64         \n",
      " 11  month        397924 non-null  int64         \n",
      " 12  day          397924 non-null  int64         \n",
      " 13  dayofweek    397924 non-null  int64         \n",
      " 14  dayofyear    397924 non-null  int64         \n",
      " 15  weekofyear   397924 non-null  int64         \n",
      " 16  quarter      397924 non-null  int64         \n",
      "dtypes: datetime64[ns](1), float64(2), int64(9), object(4), period[M](1)\n",
      "memory usage: 64.6+ MB\n"
     ]
    }
   ],
   "source": [
    "data2.info()"
   ]
  },
  {
   "cell_type": "code",
   "execution_count": 26,
   "metadata": {
    "colab": {
     "base_uri": "https://localhost:8080/",
     "height": 499
    },
    "colab_type": "code",
    "executionInfo": {
     "elapsed": 421,
     "status": "ok",
     "timestamp": 1574026971868,
     "user": {
      "displayName": "Rajeev Ratan",
      "photoUrl": "https://lh3.googleusercontent.com/a-/AAuE7mCGo6aIm0tOcd5EhqWlYb0rime9sBvHS9YMpx0D2w=s64",
      "userId": "08597265227091462140"
     },
     "user_tz": 0
    },
    "id": "-CqhdQTcjPud",
    "outputId": "1e7e0fd2-db8a-4bcf-9e02-df5e5d864e0f",
    "scrolled": true
   },
   "outputs": [
    {
     "data": {
      "text/html": [
       "<div>\n",
       "<style scoped>\n",
       "    .dataframe tbody tr th:only-of-type {\n",
       "        vertical-align: middle;\n",
       "    }\n",
       "\n",
       "    .dataframe tbody tr th {\n",
       "        vertical-align: top;\n",
       "    }\n",
       "\n",
       "    .dataframe thead th {\n",
       "        text-align: right;\n",
       "    }\n",
       "</style>\n",
       "<table border=\"1\" class=\"dataframe\">\n",
       "  <thead>\n",
       "    <tr style=\"text-align: right;\">\n",
       "      <th></th>\n",
       "      <th>InvoiceNo</th>\n",
       "      <th>StockCode</th>\n",
       "      <th>Description</th>\n",
       "      <th>Quantity</th>\n",
       "      <th>InvoiceDate</th>\n",
       "      <th>UnitPrice</th>\n",
       "      <th>CustomerID</th>\n",
       "      <th>Country</th>\n",
       "      <th>AmountSpent</th>\n",
       "      <th>month_year</th>\n",
       "      <th>year</th>\n",
       "      <th>month</th>\n",
       "      <th>day</th>\n",
       "      <th>dayofweek</th>\n",
       "      <th>dayofyear</th>\n",
       "      <th>weekofyear</th>\n",
       "      <th>quarter</th>\n",
       "    </tr>\n",
       "  </thead>\n",
       "  <tbody>\n",
       "    <tr>\n",
       "      <th>0</th>\n",
       "      <td>536365</td>\n",
       "      <td>85123A</td>\n",
       "      <td>WHITE HANGING HEART T-LIGHT HOLDER</td>\n",
       "      <td>6</td>\n",
       "      <td>2010-12-01 08:26:00</td>\n",
       "      <td>2.55</td>\n",
       "      <td>17850</td>\n",
       "      <td>United Kingdom</td>\n",
       "      <td>15.30</td>\n",
       "      <td>2010-12</td>\n",
       "      <td>2010</td>\n",
       "      <td>12</td>\n",
       "      <td>1</td>\n",
       "      <td>3</td>\n",
       "      <td>335</td>\n",
       "      <td>48</td>\n",
       "      <td>4</td>\n",
       "    </tr>\n",
       "    <tr>\n",
       "      <th>1</th>\n",
       "      <td>536365</td>\n",
       "      <td>71053</td>\n",
       "      <td>WHITE METAL LANTERN</td>\n",
       "      <td>6</td>\n",
       "      <td>2010-12-01 08:26:00</td>\n",
       "      <td>3.39</td>\n",
       "      <td>17850</td>\n",
       "      <td>United Kingdom</td>\n",
       "      <td>20.34</td>\n",
       "      <td>2010-12</td>\n",
       "      <td>2010</td>\n",
       "      <td>12</td>\n",
       "      <td>1</td>\n",
       "      <td>3</td>\n",
       "      <td>335</td>\n",
       "      <td>48</td>\n",
       "      <td>4</td>\n",
       "    </tr>\n",
       "    <tr>\n",
       "      <th>2</th>\n",
       "      <td>536365</td>\n",
       "      <td>84406B</td>\n",
       "      <td>CREAM CUPID HEARTS COAT HANGER</td>\n",
       "      <td>8</td>\n",
       "      <td>2010-12-01 08:26:00</td>\n",
       "      <td>2.75</td>\n",
       "      <td>17850</td>\n",
       "      <td>United Kingdom</td>\n",
       "      <td>22.00</td>\n",
       "      <td>2010-12</td>\n",
       "      <td>2010</td>\n",
       "      <td>12</td>\n",
       "      <td>1</td>\n",
       "      <td>3</td>\n",
       "      <td>335</td>\n",
       "      <td>48</td>\n",
       "      <td>4</td>\n",
       "    </tr>\n",
       "    <tr>\n",
       "      <th>3</th>\n",
       "      <td>536365</td>\n",
       "      <td>84029G</td>\n",
       "      <td>KNITTED UNION FLAG HOT WATER BOTTLE</td>\n",
       "      <td>6</td>\n",
       "      <td>2010-12-01 08:26:00</td>\n",
       "      <td>3.39</td>\n",
       "      <td>17850</td>\n",
       "      <td>United Kingdom</td>\n",
       "      <td>20.34</td>\n",
       "      <td>2010-12</td>\n",
       "      <td>2010</td>\n",
       "      <td>12</td>\n",
       "      <td>1</td>\n",
       "      <td>3</td>\n",
       "      <td>335</td>\n",
       "      <td>48</td>\n",
       "      <td>4</td>\n",
       "    </tr>\n",
       "    <tr>\n",
       "      <th>4</th>\n",
       "      <td>536365</td>\n",
       "      <td>84029E</td>\n",
       "      <td>RED WOOLLY HOTTIE WHITE HEART.</td>\n",
       "      <td>6</td>\n",
       "      <td>2010-12-01 08:26:00</td>\n",
       "      <td>3.39</td>\n",
       "      <td>17850</td>\n",
       "      <td>United Kingdom</td>\n",
       "      <td>20.34</td>\n",
       "      <td>2010-12</td>\n",
       "      <td>2010</td>\n",
       "      <td>12</td>\n",
       "      <td>1</td>\n",
       "      <td>3</td>\n",
       "      <td>335</td>\n",
       "      <td>48</td>\n",
       "      <td>4</td>\n",
       "    </tr>\n",
       "  </tbody>\n",
       "</table>\n",
       "</div>"
      ],
      "text/plain": [
       "  InvoiceNo StockCode                          Description  Quantity  \\\n",
       "0    536365    85123A   WHITE HANGING HEART T-LIGHT HOLDER         6   \n",
       "1    536365     71053                  WHITE METAL LANTERN         6   \n",
       "2    536365    84406B       CREAM CUPID HEARTS COAT HANGER         8   \n",
       "3    536365    84029G  KNITTED UNION FLAG HOT WATER BOTTLE         6   \n",
       "4    536365    84029E       RED WOOLLY HOTTIE WHITE HEART.         6   \n",
       "\n",
       "          InvoiceDate  UnitPrice  CustomerID         Country  AmountSpent  \\\n",
       "0 2010-12-01 08:26:00       2.55       17850  United Kingdom        15.30   \n",
       "1 2010-12-01 08:26:00       3.39       17850  United Kingdom        20.34   \n",
       "2 2010-12-01 08:26:00       2.75       17850  United Kingdom        22.00   \n",
       "3 2010-12-01 08:26:00       3.39       17850  United Kingdom        20.34   \n",
       "4 2010-12-01 08:26:00       3.39       17850  United Kingdom        20.34   \n",
       "\n",
       "  month_year  year  month  day  dayofweek  dayofyear  weekofyear  quarter  \n",
       "0    2010-12  2010     12    1          3        335          48        4  \n",
       "1    2010-12  2010     12    1          3        335          48        4  \n",
       "2    2010-12  2010     12    1          3        335          48        4  \n",
       "3    2010-12  2010     12    1          3        335          48        4  \n",
       "4    2010-12  2010     12    1          3        335          48        4  "
      ]
     },
     "execution_count": 26,
     "metadata": {},
     "output_type": "execute_result"
    }
   ],
   "source": [
    "# +1 to make Monday=1.....until Sunday=7\n",
    "data2['dayofweek'] = data2['dayofweek'] + 1\n",
    "data2.head()"
   ]
  },
  {
   "cell_type": "markdown",
   "metadata": {
    "colab_type": "text",
    "id": "hlLHK45qjPug"
   },
   "source": [
    "## Exploring and Analysing the Data"
   ]
  },
  {
   "cell_type": "code",
   "execution_count": 27,
   "metadata": {
    "colab": {
     "base_uri": "https://localhost:8080/",
     "height": 355
    },
    "colab_type": "code",
    "executionInfo": {
     "elapsed": 960,
     "status": "ok",
     "timestamp": 1574027111948,
     "user": {
      "displayName": "Rajeev Ratan",
      "photoUrl": "https://lh3.googleusercontent.com/a-/AAuE7mCGo6aIm0tOcd5EhqWlYb0rime9sBvHS9YMpx0D2w=s64",
      "userId": "08597265227091462140"
     },
     "user_tz": 0
    },
    "id": "-osobBW6jPug",
    "outputId": "a5b727aa-6b8d-46ba-d9b4-4201ab61314d",
    "scrolled": true
   },
   "outputs": [
    {
     "data": {
      "text/html": [
       "<div>\n",
       "<style scoped>\n",
       "    .dataframe tbody tr th:only-of-type {\n",
       "        vertical-align: middle;\n",
       "    }\n",
       "\n",
       "    .dataframe tbody tr th {\n",
       "        vertical-align: top;\n",
       "    }\n",
       "\n",
       "    .dataframe thead th {\n",
       "        text-align: right;\n",
       "    }\n",
       "</style>\n",
       "<table border=\"1\" class=\"dataframe\">\n",
       "  <thead>\n",
       "    <tr style=\"text-align: right;\">\n",
       "      <th></th>\n",
       "      <th>CustomerID</th>\n",
       "      <th>Country</th>\n",
       "      <th>NumberOfSales</th>\n",
       "    </tr>\n",
       "  </thead>\n",
       "  <tbody>\n",
       "    <tr>\n",
       "      <th>4019</th>\n",
       "      <td>17841</td>\n",
       "      <td>United Kingdom</td>\n",
       "      <td>7847</td>\n",
       "    </tr>\n",
       "    <tr>\n",
       "      <th>1888</th>\n",
       "      <td>14911</td>\n",
       "      <td>EIRE</td>\n",
       "      <td>5677</td>\n",
       "    </tr>\n",
       "    <tr>\n",
       "      <th>1298</th>\n",
       "      <td>14096</td>\n",
       "      <td>United Kingdom</td>\n",
       "      <td>5111</td>\n",
       "    </tr>\n",
       "    <tr>\n",
       "      <th>334</th>\n",
       "      <td>12748</td>\n",
       "      <td>United Kingdom</td>\n",
       "      <td>4596</td>\n",
       "    </tr>\n",
       "    <tr>\n",
       "      <th>1670</th>\n",
       "      <td>14606</td>\n",
       "      <td>United Kingdom</td>\n",
       "      <td>2700</td>\n",
       "    </tr>\n",
       "    <tr>\n",
       "      <th>2185</th>\n",
       "      <td>15311</td>\n",
       "      <td>United Kingdom</td>\n",
       "      <td>2379</td>\n",
       "    </tr>\n",
       "    <tr>\n",
       "      <th>1698</th>\n",
       "      <td>14646</td>\n",
       "      <td>Netherlands</td>\n",
       "      <td>2080</td>\n",
       "    </tr>\n",
       "    <tr>\n",
       "      <th>570</th>\n",
       "      <td>13089</td>\n",
       "      <td>United Kingdom</td>\n",
       "      <td>1818</td>\n",
       "    </tr>\n",
       "    <tr>\n",
       "      <th>699</th>\n",
       "      <td>13263</td>\n",
       "      <td>United Kingdom</td>\n",
       "      <td>1677</td>\n",
       "    </tr>\n",
       "    <tr>\n",
       "      <th>1443</th>\n",
       "      <td>14298</td>\n",
       "      <td>United Kingdom</td>\n",
       "      <td>1637</td>\n",
       "    </tr>\n",
       "  </tbody>\n",
       "</table>\n",
       "</div>"
      ],
      "text/plain": [
       "      CustomerID         Country  NumberOfSales\n",
       "4019       17841  United Kingdom           7847\n",
       "1888       14911            EIRE           5677\n",
       "1298       14096  United Kingdom           5111\n",
       "334        12748  United Kingdom           4596\n",
       "1670       14606  United Kingdom           2700\n",
       "2185       15311  United Kingdom           2379\n",
       "1698       14646     Netherlands           2080\n",
       "570        13089  United Kingdom           1818\n",
       "699        13263  United Kingdom           1677\n",
       "1443       14298  United Kingdom           1637"
      ]
     },
     "execution_count": 27,
     "metadata": {},
     "output_type": "execute_result"
    }
   ],
   "source": [
    "# Consolidating the number of Sales Made per customer for each country\n",
    "# We use InvoiceNo as the count for sales\n",
    "SalesPerCustomer = data2.groupby(by=['CustomerID','Country'], as_index=False)['InvoiceNo'].count().sort_values(by='InvoiceNo', ascending=False)\n",
    "SalesPerCustomer.columns = ['CustomerID', 'Country', \"NumberOfSales\"]\n",
    "SalesPerCustomer.head(10)"
   ]
  },
  {
   "cell_type": "code",
   "execution_count": 28,
   "metadata": {
    "colab": {
     "base_uri": "https://localhost:8080/",
     "height": 410
    },
    "colab_type": "code",
    "executionInfo": {
     "elapsed": 1043,
     "status": "ok",
     "timestamp": 1574027158495,
     "user": {
      "displayName": "Rajeev Ratan",
      "photoUrl": "https://lh3.googleusercontent.com/a-/AAuE7mCGo6aIm0tOcd5EhqWlYb0rime9sBvHS9YMpx0D2w=s64",
      "userId": "08597265227091462140"
     },
     "user_tz": 0
    },
    "id": "zLyo1-ArjPuj",
    "outputId": "ab8bae53-80c9-4f0d-b340-ec0c621c86ca",
    "scrolled": true
   },
   "outputs": [
    {
     "data": {
      "image/png": "[encoded data removed]",
      "text/plain": [
       "<Figure size 1080x432 with 1 Axes>"
      ]
     },
     "metadata": {},
     "output_type": "display_data"
    }
   ],
   "source": [
    "# Visualizing No. of Sales for all Customers\n",
    "\n",
    "orders = data2.groupby(by=['CustomerID','Country'], as_index=False)['InvoiceNo'].count()\n",
    "\n",
    "plt.subplots(figsize=(15,6))\n",
    "plt.plot(orders.CustomerID, orders.InvoiceNo)\n",
    "plt.xlabel('Customers ID')\n",
    "plt.ylabel('Number of Orders')\n",
    "plt.title('Number of Orders for different Customers')\n",
    "plt.show()"
   ]
  },
  {
   "cell_type": "code",
   "execution_count": 29,
   "metadata": {
    "colab": {
     "base_uri": "https://localhost:8080/",
     "height": 410
    },
    "colab_type": "code",
    "executionInfo": {
     "elapsed": 950,
     "status": "ok",
     "timestamp": 1574027207324,
     "user": {
      "displayName": "Rajeev Ratan",
      "photoUrl": "https://lh3.googleusercontent.com/a-/AAuE7mCGo6aIm0tOcd5EhqWlYb0rime9sBvHS9YMpx0D2w=s64",
      "userId": "08597265227091462140"
     },
     "user_tz": 0
    },
    "id": "cExKVOVWjPum",
    "outputId": "4ccf6828-a5c6-4c33-cc5a-11f640046ef8",
    "scrolled": true
   },
   "outputs": [
    {
     "data": {
      "image/png": "[encoded data removed]",
      "text/plain": [
       "<Figure size 1080x432 with 1 Axes>"
      ]
     },
     "metadata": {},
     "output_type": "display_data"
    }
   ],
   "source": [
    "# Visualizing Money Spent for all Customer\n",
    "money_spent = data2.groupby(by=['CustomerID','Country'], as_index=False)['AmountSpent'].sum()\n",
    "\n",
    "plt.subplots(figsize=(15,6))\n",
    "plt.plot(money_spent.CustomerID, money_spent.AmountSpent)\n",
    "plt.xlabel('Customers ID')\n",
    "plt.ylabel('Money spent (Dollar)')\n",
    "plt.title('Money Spent for different Customers')\n",
    "plt.show()"
   ]
  },
  {
   "cell_type": "code",
   "execution_count": 30,
   "metadata": {
    "colab": {
     "base_uri": "https://localhost:8080/",
     "height": 355
    },
    "colab_type": "code",
    "executionInfo": {
     "elapsed": 591,
     "status": "ok",
     "timestamp": 1574023698949,
     "user": {
      "displayName": "Rajeev Ratan",
      "photoUrl": "https://lh3.googleusercontent.com/a-/AAuE7mCGo6aIm0tOcd5EhqWlYb0rime9sBvHS9YMpx0D2w=s64",
      "userId": "08597265227091462140"
     },
     "user_tz": 0
    },
    "id": "tMaLBcVyjPuo",
    "outputId": "b4c1ca58-604d-40b7-ccb0-978c6c553a71",
    "scrolled": true
   },
   "outputs": [
    {
     "data": {
      "text/html": [
       "<div>\n",
       "<style scoped>\n",
       "    .dataframe tbody tr th:only-of-type {\n",
       "        vertical-align: middle;\n",
       "    }\n",
       "\n",
       "    .dataframe tbody tr th {\n",
       "        vertical-align: top;\n",
       "    }\n",
       "\n",
       "    .dataframe thead th {\n",
       "        text-align: right;\n",
       "    }\n",
       "</style>\n",
       "<table border=\"1\" class=\"dataframe\">\n",
       "  <thead>\n",
       "    <tr style=\"text-align: right;\">\n",
       "      <th></th>\n",
       "      <th>CustomerID</th>\n",
       "      <th>Country</th>\n",
       "      <th>TotalSpent</th>\n",
       "    </tr>\n",
       "  </thead>\n",
       "  <tbody>\n",
       "    <tr>\n",
       "      <th>1698</th>\n",
       "      <td>14646</td>\n",
       "      <td>Netherlands</td>\n",
       "      <td>280206.02</td>\n",
       "    </tr>\n",
       "    <tr>\n",
       "      <th>4210</th>\n",
       "      <td>18102</td>\n",
       "      <td>United Kingdom</td>\n",
       "      <td>259657.30</td>\n",
       "    </tr>\n",
       "    <tr>\n",
       "      <th>3737</th>\n",
       "      <td>17450</td>\n",
       "      <td>United Kingdom</td>\n",
       "      <td>194550.79</td>\n",
       "    </tr>\n",
       "    <tr>\n",
       "      <th>3017</th>\n",
       "      <td>16446</td>\n",
       "      <td>United Kingdom</td>\n",
       "      <td>168472.50</td>\n",
       "    </tr>\n",
       "    <tr>\n",
       "      <th>1888</th>\n",
       "      <td>14911</td>\n",
       "      <td>EIRE</td>\n",
       "      <td>143825.06</td>\n",
       "    </tr>\n",
       "    <tr>\n",
       "      <th>57</th>\n",
       "      <td>12415</td>\n",
       "      <td>Australia</td>\n",
       "      <td>124914.53</td>\n",
       "    </tr>\n",
       "    <tr>\n",
       "      <th>1342</th>\n",
       "      <td>14156</td>\n",
       "      <td>EIRE</td>\n",
       "      <td>117379.63</td>\n",
       "    </tr>\n",
       "    <tr>\n",
       "      <th>3780</th>\n",
       "      <td>17511</td>\n",
       "      <td>United Kingdom</td>\n",
       "      <td>91062.38</td>\n",
       "    </tr>\n",
       "    <tr>\n",
       "      <th>2711</th>\n",
       "      <td>16029</td>\n",
       "      <td>United Kingdom</td>\n",
       "      <td>81024.84</td>\n",
       "    </tr>\n",
       "    <tr>\n",
       "      <th>0</th>\n",
       "      <td>12346</td>\n",
       "      <td>United Kingdom</td>\n",
       "      <td>77183.60</td>\n",
       "    </tr>\n",
       "  </tbody>\n",
       "</table>\n",
       "</div>"
      ],
      "text/plain": [
       "      CustomerID         Country  TotalSpent\n",
       "1698       14646     Netherlands   280206.02\n",
       "4210       18102  United Kingdom   259657.30\n",
       "3737       17450  United Kingdom   194550.79\n",
       "3017       16446  United Kingdom   168472.50\n",
       "1888       14911            EIRE   143825.06\n",
       "57         12415       Australia   124914.53\n",
       "1342       14156            EIRE   117379.63\n",
       "3780       17511  United Kingdom    91062.38\n",
       "2711       16029  United Kingdom    81024.84\n",
       "0          12346  United Kingdom    77183.60"
      ]
     },
     "execution_count": 30,
     "metadata": {},
     "output_type": "execute_result"
    }
   ],
   "source": [
    "# Consolidating the number of Sales Made per customer (Revenue)\n",
    "# we use use index=False, to indicate to the groupby that we don't want to set the column ID as index\n",
    "AmountSpentPerCustomer = data2.groupby(by=['CustomerID','Country'], as_index=False)['AmountSpent'].sum().sort_values(by='AmountSpent', ascending=False)\n",
    "AmountSpentPerCustomer.columns = ['CustomerID', 'Country', \"TotalSpent\"]\n",
    "AmountSpentPerCustomer.head(10)"
   ]
  },
  {
   "cell_type": "markdown",
   "metadata": {
    "colab_type": "text",
    "id": "qCrex3PojPuq"
   },
   "source": [
    "# Purchasing Patterns"
   ]
  },
  {
   "cell_type": "code",
   "execution_count": 31,
   "metadata": {
    "colab": {
     "base_uri": "https://localhost:8080/",
     "height": 499
    },
    "colab_type": "code",
    "executionInfo": {
     "elapsed": 854,
     "status": "ok",
     "timestamp": 1574027322371,
     "user": {
      "displayName": "Rajeev Ratan",
      "photoUrl": "https://lh3.googleusercontent.com/a-/AAuE7mCGo6aIm0tOcd5EhqWlYb0rime9sBvHS9YMpx0D2w=s64",
      "userId": "08597265227091462140"
     },
     "user_tz": 0
    },
    "id": "b_ZvC-tqjPut",
    "outputId": "8be4845c-b91f-41ec-9a6b-37778f63cdd1",
    "scrolled": true
   },
   "outputs": [
    {
     "data": {
      "text/html": [
       "<div>\n",
       "<style scoped>\n",
       "    .dataframe tbody tr th:only-of-type {\n",
       "        vertical-align: middle;\n",
       "    }\n",
       "\n",
       "    .dataframe tbody tr th {\n",
       "        vertical-align: top;\n",
       "    }\n",
       "\n",
       "    .dataframe thead th {\n",
       "        text-align: right;\n",
       "    }\n",
       "</style>\n",
       "<table border=\"1\" class=\"dataframe\">\n",
       "  <thead>\n",
       "    <tr style=\"text-align: right;\">\n",
       "      <th></th>\n",
       "      <th>InvoiceNo</th>\n",
       "      <th>StockCode</th>\n",
       "      <th>Description</th>\n",
       "      <th>Quantity</th>\n",
       "      <th>InvoiceDate</th>\n",
       "      <th>UnitPrice</th>\n",
       "      <th>CustomerID</th>\n",
       "      <th>Country</th>\n",
       "      <th>AmountSpent</th>\n",
       "      <th>month_year</th>\n",
       "      <th>year</th>\n",
       "      <th>month</th>\n",
       "      <th>day</th>\n",
       "      <th>dayofweek</th>\n",
       "      <th>dayofyear</th>\n",
       "      <th>weekofyear</th>\n",
       "      <th>quarter</th>\n",
       "    </tr>\n",
       "  </thead>\n",
       "  <tbody>\n",
       "    <tr>\n",
       "      <th>0</th>\n",
       "      <td>536365</td>\n",
       "      <td>85123A</td>\n",
       "      <td>WHITE HANGING HEART T-LIGHT HOLDER</td>\n",
       "      <td>6</td>\n",
       "      <td>2010-12-01 08:26:00</td>\n",
       "      <td>2.55</td>\n",
       "      <td>17850</td>\n",
       "      <td>United Kingdom</td>\n",
       "      <td>15.30</td>\n",
       "      <td>2010-12</td>\n",
       "      <td>2010</td>\n",
       "      <td>12</td>\n",
       "      <td>1</td>\n",
       "      <td>3</td>\n",
       "      <td>335</td>\n",
       "      <td>48</td>\n",
       "      <td>4</td>\n",
       "    </tr>\n",
       "    <tr>\n",
       "      <th>1</th>\n",
       "      <td>536365</td>\n",
       "      <td>71053</td>\n",
       "      <td>WHITE METAL LANTERN</td>\n",
       "      <td>6</td>\n",
       "      <td>2010-12-01 08:26:00</td>\n",
       "      <td>3.39</td>\n",
       "      <td>17850</td>\n",
       "      <td>United Kingdom</td>\n",
       "      <td>20.34</td>\n",
       "      <td>2010-12</td>\n",
       "      <td>2010</td>\n",
       "      <td>12</td>\n",
       "      <td>1</td>\n",
       "      <td>3</td>\n",
       "      <td>335</td>\n",
       "      <td>48</td>\n",
       "      <td>4</td>\n",
       "    </tr>\n",
       "    <tr>\n",
       "      <th>2</th>\n",
       "      <td>536365</td>\n",
       "      <td>84406B</td>\n",
       "      <td>CREAM CUPID HEARTS COAT HANGER</td>\n",
       "      <td>8</td>\n",
       "      <td>2010-12-01 08:26:00</td>\n",
       "      <td>2.75</td>\n",
       "      <td>17850</td>\n",
       "      <td>United Kingdom</td>\n",
       "      <td>22.00</td>\n",
       "      <td>2010-12</td>\n",
       "      <td>2010</td>\n",
       "      <td>12</td>\n",
       "      <td>1</td>\n",
       "      <td>3</td>\n",
       "      <td>335</td>\n",
       "      <td>48</td>\n",
       "      <td>4</td>\n",
       "    </tr>\n",
       "    <tr>\n",
       "      <th>3</th>\n",
       "      <td>536365</td>\n",
       "      <td>84029G</td>\n",
       "      <td>KNITTED UNION FLAG HOT WATER BOTTLE</td>\n",
       "      <td>6</td>\n",
       "      <td>2010-12-01 08:26:00</td>\n",
       "      <td>3.39</td>\n",
       "      <td>17850</td>\n",
       "      <td>United Kingdom</td>\n",
       "      <td>20.34</td>\n",
       "      <td>2010-12</td>\n",
       "      <td>2010</td>\n",
       "      <td>12</td>\n",
       "      <td>1</td>\n",
       "      <td>3</td>\n",
       "      <td>335</td>\n",
       "      <td>48</td>\n",
       "      <td>4</td>\n",
       "    </tr>\n",
       "    <tr>\n",
       "      <th>4</th>\n",
       "      <td>536365</td>\n",
       "      <td>84029E</td>\n",
       "      <td>RED WOOLLY HOTTIE WHITE HEART.</td>\n",
       "      <td>6</td>\n",
       "      <td>2010-12-01 08:26:00</td>\n",
       "      <td>3.39</td>\n",
       "      <td>17850</td>\n",
       "      <td>United Kingdom</td>\n",
       "      <td>20.34</td>\n",
       "      <td>2010-12</td>\n",
       "      <td>2010</td>\n",
       "      <td>12</td>\n",
       "      <td>1</td>\n",
       "      <td>3</td>\n",
       "      <td>335</td>\n",
       "      <td>48</td>\n",
       "      <td>4</td>\n",
       "    </tr>\n",
       "  </tbody>\n",
       "</table>\n",
       "</div>"
      ],
      "text/plain": [
       "  InvoiceNo StockCode                          Description  Quantity  \\\n",
       "0    536365    85123A   WHITE HANGING HEART T-LIGHT HOLDER         6   \n",
       "1    536365     71053                  WHITE METAL LANTERN         6   \n",
       "2    536365    84406B       CREAM CUPID HEARTS COAT HANGER         8   \n",
       "3    536365    84029G  KNITTED UNION FLAG HOT WATER BOTTLE         6   \n",
       "4    536365    84029E       RED WOOLLY HOTTIE WHITE HEART.         6   \n",
       "\n",
       "          InvoiceDate  UnitPrice  CustomerID         Country  AmountSpent  \\\n",
       "0 2010-12-01 08:26:00       2.55       17850  United Kingdom        15.30   \n",
       "1 2010-12-01 08:26:00       3.39       17850  United Kingdom        20.34   \n",
       "2 2010-12-01 08:26:00       2.75       17850  United Kingdom        22.00   \n",
       "3 2010-12-01 08:26:00       3.39       17850  United Kingdom        20.34   \n",
       "4 2010-12-01 08:26:00       3.39       17850  United Kingdom        20.34   \n",
       "\n",
       "  month_year  year  month  day  dayofweek  dayofyear  weekofyear  quarter  \n",
       "0    2010-12  2010     12    1          3        335          48        4  \n",
       "1    2010-12  2010     12    1          3        335          48        4  \n",
       "2    2010-12  2010     12    1          3        335          48        4  \n",
       "3    2010-12  2010     12    1          3        335          48        4  \n",
       "4    2010-12  2010     12    1          3        335          48        4  "
      ]
     },
     "execution_count": 31,
     "metadata": {},
     "output_type": "execute_result"
    }
   ],
   "source": [
    "# Check our data\n",
    "data2.head()"
   ]
  },
  {
   "cell_type": "code",
   "execution_count": 32,
   "metadata": {
    "colab": {},
    "colab_type": "code",
    "id": "Fjf2SK6ljPuw",
    "scrolled": true
   },
   "outputs": [],
   "source": [
    "# Insert a new column as our 3rd column (index 2) with year_month by joining our year with month from our InvoiceDate field\n",
    "data2.insert(loc=2, column='year_month', value=data2['InvoiceDate'].map(lambda x: 100*x.year + x.month))\n",
    "\n",
    "# Insert a new column as our 6th column (index 5) with our Hour extracted from InvoiceDate\n",
    "data2.insert(loc=5, column='hour', value=data2.InvoiceDate.dt.hour)"
   ]
  },
  {
   "cell_type": "code",
   "execution_count": 33,
   "metadata": {
    "colab": {
     "base_uri": "https://localhost:8080/",
     "height": 499
    },
    "colab_type": "code",
    "executionInfo": {
     "elapsed": 1618,
     "status": "ok",
     "timestamp": 1574027435533,
     "user": {
      "displayName": "Rajeev Ratan",
      "photoUrl": "https://lh3.googleusercontent.com/a-/AAuE7mCGo6aIm0tOcd5EhqWlYb0rime9sBvHS9YMpx0D2w=s64",
      "userId": "08597265227091462140"
     },
     "user_tz": 0
    },
    "id": "bZ8-P_31IHIb",
    "outputId": "629a3d85-8611-49bd-9992-a9a557b11983",
    "scrolled": true
   },
   "outputs": [
    {
     "data": {
      "text/html": [
       "<div>\n",
       "<style scoped>\n",
       "    .dataframe tbody tr th:only-of-type {\n",
       "        vertical-align: middle;\n",
       "    }\n",
       "\n",
       "    .dataframe tbody tr th {\n",
       "        vertical-align: top;\n",
       "    }\n",
       "\n",
       "    .dataframe thead th {\n",
       "        text-align: right;\n",
       "    }\n",
       "</style>\n",
       "<table border=\"1\" class=\"dataframe\">\n",
       "  <thead>\n",
       "    <tr style=\"text-align: right;\">\n",
       "      <th></th>\n",
       "      <th>InvoiceNo</th>\n",
       "      <th>StockCode</th>\n",
       "      <th>year_month</th>\n",
       "      <th>Description</th>\n",
       "      <th>Quantity</th>\n",
       "      <th>hour</th>\n",
       "      <th>InvoiceDate</th>\n",
       "      <th>UnitPrice</th>\n",
       "      <th>CustomerID</th>\n",
       "      <th>Country</th>\n",
       "      <th>AmountSpent</th>\n",
       "      <th>month_year</th>\n",
       "      <th>year</th>\n",
       "      <th>month</th>\n",
       "      <th>day</th>\n",
       "      <th>dayofweek</th>\n",
       "      <th>dayofyear</th>\n",
       "      <th>weekofyear</th>\n",
       "      <th>quarter</th>\n",
       "    </tr>\n",
       "  </thead>\n",
       "  <tbody>\n",
       "    <tr>\n",
       "      <th>0</th>\n",
       "      <td>536365</td>\n",
       "      <td>85123A</td>\n",
       "      <td>201012</td>\n",
       "      <td>WHITE HANGING HEART T-LIGHT HOLDER</td>\n",
       "      <td>6</td>\n",
       "      <td>8</td>\n",
       "      <td>2010-12-01 08:26:00</td>\n",
       "      <td>2.55</td>\n",
       "      <td>17850</td>\n",
       "      <td>United Kingdom</td>\n",
       "      <td>15.30</td>\n",
       "      <td>2010-12</td>\n",
       "      <td>2010</td>\n",
       "      <td>12</td>\n",
       "      <td>1</td>\n",
       "      <td>3</td>\n",
       "      <td>335</td>\n",
       "      <td>48</td>\n",
       "      <td>4</td>\n",
       "    </tr>\n",
       "    <tr>\n",
       "      <th>1</th>\n",
       "      <td>536365</td>\n",
       "      <td>71053</td>\n",
       "      <td>201012</td>\n",
       "      <td>WHITE METAL LANTERN</td>\n",
       "      <td>6</td>\n",
       "      <td>8</td>\n",
       "      <td>2010-12-01 08:26:00</td>\n",
       "      <td>3.39</td>\n",
       "      <td>17850</td>\n",
       "      <td>United Kingdom</td>\n",
       "      <td>20.34</td>\n",
       "      <td>2010-12</td>\n",
       "      <td>2010</td>\n",
       "      <td>12</td>\n",
       "      <td>1</td>\n",
       "      <td>3</td>\n",
       "      <td>335</td>\n",
       "      <td>48</td>\n",
       "      <td>4</td>\n",
       "    </tr>\n",
       "    <tr>\n",
       "      <th>2</th>\n",
       "      <td>536365</td>\n",
       "      <td>84406B</td>\n",
       "      <td>201012</td>\n",
       "      <td>CREAM CUPID HEARTS COAT HANGER</td>\n",
       "      <td>8</td>\n",
       "      <td>8</td>\n",
       "      <td>2010-12-01 08:26:00</td>\n",
       "      <td>2.75</td>\n",
       "      <td>17850</td>\n",
       "      <td>United Kingdom</td>\n",
       "      <td>22.00</td>\n",
       "      <td>2010-12</td>\n",
       "      <td>2010</td>\n",
       "      <td>12</td>\n",
       "      <td>1</td>\n",
       "      <td>3</td>\n",
       "      <td>335</td>\n",
       "      <td>48</td>\n",
       "      <td>4</td>\n",
       "    </tr>\n",
       "    <tr>\n",
       "      <th>3</th>\n",
       "      <td>536365</td>\n",
       "      <td>84029G</td>\n",
       "      <td>201012</td>\n",
       "      <td>KNITTED UNION FLAG HOT WATER BOTTLE</td>\n",
       "      <td>6</td>\n",
       "      <td>8</td>\n",
       "      <td>2010-12-01 08:26:00</td>\n",
       "      <td>3.39</td>\n",
       "      <td>17850</td>\n",
       "      <td>United Kingdom</td>\n",
       "      <td>20.34</td>\n",
       "      <td>2010-12</td>\n",
       "      <td>2010</td>\n",
       "      <td>12</td>\n",
       "      <td>1</td>\n",
       "      <td>3</td>\n",
       "      <td>335</td>\n",
       "      <td>48</td>\n",
       "      <td>4</td>\n",
       "    </tr>\n",
       "    <tr>\n",
       "      <th>4</th>\n",
       "      <td>536365</td>\n",
       "      <td>84029E</td>\n",
       "      <td>201012</td>\n",
       "      <td>RED WOOLLY HOTTIE WHITE HEART.</td>\n",
       "      <td>6</td>\n",
       "      <td>8</td>\n",
       "      <td>2010-12-01 08:26:00</td>\n",
       "      <td>3.39</td>\n",
       "      <td>17850</td>\n",
       "      <td>United Kingdom</td>\n",
       "      <td>20.34</td>\n",
       "      <td>2010-12</td>\n",
       "      <td>2010</td>\n",
       "      <td>12</td>\n",
       "      <td>1</td>\n",
       "      <td>3</td>\n",
       "      <td>335</td>\n",
       "      <td>48</td>\n",
       "      <td>4</td>\n",
       "    </tr>\n",
       "  </tbody>\n",
       "</table>\n",
       "</div>"
      ],
      "text/plain": [
       "  InvoiceNo StockCode  year_month                          Description  \\\n",
       "0    536365    85123A      201012   WHITE HANGING HEART T-LIGHT HOLDER   \n",
       "1    536365     71053      201012                  WHITE METAL LANTERN   \n",
       "2    536365    84406B      201012       CREAM CUPID HEARTS COAT HANGER   \n",
       "3    536365    84029G      201012  KNITTED UNION FLAG HOT WATER BOTTLE   \n",
       "4    536365    84029E      201012       RED WOOLLY HOTTIE WHITE HEART.   \n",
       "\n",
       "   Quantity  hour         InvoiceDate  UnitPrice  CustomerID         Country  \\\n",
       "0         6     8 2010-12-01 08:26:00       2.55       17850  United Kingdom   \n",
       "1         6     8 2010-12-01 08:26:00       3.39       17850  United Kingdom   \n",
       "2         8     8 2010-12-01 08:26:00       2.75       17850  United Kingdom   \n",
       "3         6     8 2010-12-01 08:26:00       3.39       17850  United Kingdom   \n",
       "4         6     8 2010-12-01 08:26:00       3.39       17850  United Kingdom   \n",
       "\n",
       "   AmountSpent month_year  year  month  day  dayofweek  dayofyear  weekofyear  \\\n",
       "0        15.30    2010-12  2010     12    1          3        335          48   \n",
       "1        20.34    2010-12  2010     12    1          3        335          48   \n",
       "2        22.00    2010-12  2010     12    1          3        335          48   \n",
       "3        20.34    2010-12  2010     12    1          3        335          48   \n",
       "4        20.34    2010-12  2010     12    1          3        335          48   \n",
       "\n",
       "   quarter  \n",
       "0        4  \n",
       "1        4  \n",
       "2        4  \n",
       "3        4  \n",
       "4        4  "
      ]
     },
     "execution_count": 33,
     "metadata": {},
     "output_type": "execute_result"
    }
   ],
   "source": [
    "# Check to see if our year_month and hour columns were made\n",
    "data2.head()"
   ]
  },
  {
   "cell_type": "code",
   "execution_count": 34,
   "metadata": {
    "scrolled": true
   },
   "outputs": [
    {
     "data": {
      "text/plain": [
       "Timestamp('2010-12-23 16:06:00')"
      ]
     },
     "execution_count": 34,
     "metadata": {},
     "output_type": "execute_result"
    }
   ],
   "source": [
    "data2.loc[data2['year_month'] == 201012]['InvoiceDate'].max()"
   ]
  },
  {
   "cell_type": "code",
   "execution_count": 35,
   "metadata": {
    "scrolled": true
   },
   "outputs": [
    {
     "data": {
      "text/plain": [
       "Timestamp('2011-12-09 12:50:00')"
      ]
     },
     "execution_count": 35,
     "metadata": {},
     "output_type": "execute_result"
    }
   ],
   "source": [
    "data2.loc[data2['year_month'] == 201112]['InvoiceDate'].max()"
   ]
  },
  {
   "cell_type": "code",
   "execution_count": 36,
   "metadata": {
    "colab": {
     "base_uri": "https://localhost:8080/",
     "height": 417
    },
    "colab_type": "code",
    "executionInfo": {
     "elapsed": 4900,
     "status": "ok",
     "timestamp": 1574027482554,
     "user": {
      "displayName": "Rajeev Ratan",
      "photoUrl": "https://lh3.googleusercontent.com/a-/AAuE7mCGo6aIm0tOcd5EhqWlYb0rime9sBvHS9YMpx0D2w=s64",
      "userId": "08597265227091462140"
     },
     "user_tz": 0
    },
    "id": "P9LXcgJLjPuz",
    "outputId": "f415d909-1ea2-4ca2-c3e6-cc943b8595cf",
    "scrolled": false
   },
   "outputs": [
    {
     "data": {
      "image/png": "[encoded data removed]",
      "text/plain": [
       "<Figure size 1080x432 with 1 Axes>"
      ]
     },
     "metadata": {},
     "output_type": "display_data"
    }
   ],
   "source": [
    "# Create a plot that shows the number of orders per month \n",
    "ax = data2.groupby('InvoiceNo')['year_month'].unique().value_counts().sort_index().plot(kind='bar',color='blue',figsize=(15,6))\n",
    "ax.set_xlabel('Month',fontsize=15)\n",
    "ax.set_ylabel('Number of Orders',fontsize=15)\n",
    "ax.set_title('Number of orders for per Month (1st Dec 2010 - 9th Dec 2011)',fontsize=15)\n",
    "ax.set_xticklabels(('Dec_10','Jan_11','Feb_11','Mar_11','Apr_11','May_11','Jun_11','July_11','Aug_11','Sep_11','Oct_11','Nov_11','Dec_11'), rotation='horizontal', fontsize=13)\n",
    "plt.show()"
   ]
  },
  {
   "cell_type": "code",
   "execution_count": 37,
   "metadata": {
    "colab": {
     "base_uri": "https://localhost:8080/",
     "height": 139
    },
    "colab_type": "code",
    "executionInfo": {
     "elapsed": 5079,
     "status": "ok",
     "timestamp": 1574027524187,
     "user": {
      "displayName": "Rajeev Ratan",
      "photoUrl": "https://lh3.googleusercontent.com/a-/AAuE7mCGo6aIm0tOcd5EhqWlYb0rime9sBvHS9YMpx0D2w=s64",
      "userId": "08597265227091462140"
     },
     "user_tz": 0
    },
    "id": "iv4t2wMjjPu4",
    "outputId": "2e01dcfc-17ab-4d18-ca5a-6b442275bef8",
    "scrolled": true
   },
   "outputs": [
    {
     "data": {
      "text/plain": [
       "[1]    2863\n",
       "[2]    3185\n",
       "[3]    3455\n",
       "[4]    4033\n",
       "[5]    2831\n",
       "[7]    2169\n",
       "Name: dayofweek, dtype: int64"
      ]
     },
     "execution_count": 37,
     "metadata": {},
     "output_type": "execute_result"
    }
   ],
   "source": [
    "# Let's see number of orders per day of the week\n",
    "data2.groupby('InvoiceNo')['dayofweek'].unique().value_counts().sort_index()"
   ]
  },
  {
   "cell_type": "code",
   "execution_count": 38,
   "metadata": {
    "colab": {
     "base_uri": "https://localhost:8080/",
     "height": 419
    },
    "colab_type": "code",
    "executionInfo": {
     "elapsed": 4781,
     "status": "ok",
     "timestamp": 1574027541533,
     "user": {
      "displayName": "Rajeev Ratan",
      "photoUrl": "https://lh3.googleusercontent.com/a-/AAuE7mCGo6aIm0tOcd5EhqWlYb0rime9sBvHS9YMpx0D2w=s64",
      "userId": "08597265227091462140"
     },
     "user_tz": 0
    },
    "id": "NFss0bbvjPu6",
    "outputId": "0b274f7b-f3f4-4537-f90c-8053f0004601",
    "scrolled": true
   },
   "outputs": [
    {
     "data": {
      "image/png": "[encoded data removed]",
      "text/plain": [
       "<Figure size 1080x432 with 1 Axes>"
      ]
     },
     "metadata": {},
     "output_type": "display_data"
    }
   ],
   "source": [
    "# Create a plot for the above\n",
    "ax = data2.groupby('InvoiceNo')['dayofweek'].unique().value_counts().sort_index().plot(kind='bar',color='blue',figsize=(15,6))\n",
    "ax.set_xlabel('Day',fontsize=15)\n",
    "ax.set_ylabel('Number of Orders',fontsize=15)\n",
    "ax.set_title('Number of orders for different Days',fontsize=15)\n",
    "ax.set_xticklabels(('Mon','Tue','Wed','Thur','Fri','Sun'), rotation='horizontal', fontsize=15)\n",
    "plt.show()"
   ]
  },
  {
   "cell_type": "code",
   "execution_count": 39,
   "metadata": {
    "colab": {
     "base_uri": "https://localhost:8080/",
     "height": 104
    },
    "colab_type": "code",
    "executionInfo": {
     "elapsed": 423,
     "status": "ok",
     "timestamp": 1574027561387,
     "user": {
      "displayName": "Rajeev Ratan",
      "photoUrl": "https://lh3.googleusercontent.com/a-/AAuE7mCGo6aIm0tOcd5EhqWlYb0rime9sBvHS9YMpx0D2w=s64",
      "userId": "08597265227091462140"
     },
     "user_tz": 0
    },
    "id": "GbqYSPghjPu8",
    "outputId": "c6e8d5dd-681f-419a-e69c-25756b6070c2",
    "scrolled": true
   },
   "outputs": [
    {
     "data": {
      "text/plain": [
       "Index(['InvoiceNo', 'StockCode', 'year_month', 'Description', 'Quantity',\n",
       "       'hour', 'InvoiceDate', 'UnitPrice', 'CustomerID', 'Country',\n",
       "       'AmountSpent', 'month_year', 'year', 'month', 'day', 'dayofweek',\n",
       "       'dayofyear', 'weekofyear', 'quarter'],\n",
       "      dtype='object')"
      ]
     },
     "execution_count": 39,
     "metadata": {},
     "output_type": "execute_result"
    }
   ],
   "source": [
    "data2.columns"
   ]
  },
  {
   "cell_type": "code",
   "execution_count": 40,
   "metadata": {
    "colab": {
     "base_uri": "https://localhost:8080/",
     "height": 419
    },
    "colab_type": "code",
    "executionInfo": {
     "elapsed": 4712,
     "status": "ok",
     "timestamp": 1574027572510,
     "user": {
      "displayName": "Rajeev Ratan",
      "photoUrl": "https://lh3.googleusercontent.com/a-/AAuE7mCGo6aIm0tOcd5EhqWlYb0rime9sBvHS9YMpx0D2w=s64",
      "userId": "08597265227091462140"
     },
     "user_tz": 0
    },
    "id": "6RFDkEhVjPu-",
    "outputId": "6f48e763-8907-465f-f584-5af4d802bf71",
    "scrolled": true
   },
   "outputs": [
    {
     "data": {
      "text/plain": [
       "\"\\n# Let's Plot the  number of orders per hour\\nax = data2.groupby('InvoiceNo')['dayofweek'].unique().value_counts().sort_index().groupby('InvoiceNo')['hour'].unique().value_counts().iloc[:-1].sort_index().plot(kind='bar',color='blue',figsize=(15,6))\\nax.set_xlabel('Hour',fontsize=15)\\nax.set_ylabel('Number of Orders',fontsize=15)\\nax.set_title('Number of orders for different Hours',fontsize=15)\\nax.set_xticklabels(range(6,21), rotation='horizontal', fontsize=15)\\nplt.show()\\n\""
      ]
     },
     "execution_count": 40,
     "metadata": {},
     "output_type": "execute_result"
    }
   ],
   "source": [
    "'''\n",
    "# Let's Plot the  number of orders per hour\n",
    "ax = data2.groupby('InvoiceNo')['dayofweek'].unique().value_counts().sort_index().groupby('InvoiceNo')['hour'].unique().value_counts().iloc[:-1].sort_index().plot(kind='bar',color='blue',figsize=(15,6))\n",
    "ax.set_xlabel('Hour',fontsize=15)\n",
    "ax.set_ylabel('Number of Orders',fontsize=15)\n",
    "ax.set_title('Number of orders for different Hours',fontsize=15)\n",
    "ax.set_xticklabels(range(6,21), rotation='horizontal', fontsize=15)\n",
    "plt.show()\n",
    "'''"
   ]
  },
  {
   "cell_type": "code",
   "execution_count": 41,
   "metadata": {
    "colab": {
     "base_uri": "https://localhost:8080/",
     "height": 419
    },
    "colab_type": "code",
    "executionInfo": {
     "elapsed": 7195,
     "status": "ok",
     "timestamp": 1574027624802,
     "user": {
      "displayName": "Rajeev Ratan",
      "photoUrl": "https://lh3.googleusercontent.com/a-/AAuE7mCGo6aIm0tOcd5EhqWlYb0rime9sBvHS9YMpx0D2w=s64",
      "userId": "08597265227091462140"
     },
     "user_tz": 0
    },
    "id": "igRCzblJjPvB",
    "outputId": "4ab26147-3bb4-4be9-bbca-9e252cebbdd0",
    "scrolled": true
   },
   "outputs": [
    {
     "data": {
      "image/png": "[encoded data removed]",
      "text/plain": [
       "<Figure size 1080x432 with 1 Axes>"
      ]
     },
     "metadata": {},
     "output_type": "display_data"
    }
   ],
   "source": [
    "# Number of sales per week of the year\n",
    "ax = data2.groupby('InvoiceNo')['weekofyear'].unique().value_counts().iloc[:-1].sort_index().plot(kind='bar',color='blue',figsize=(15,6))\n",
    "ax.set_xlabel('Week',fontsize=15)\n",
    "ax.set_ylabel('Number of Orders',fontsize=15)\n",
    "ax.set_title('Number of orders per week of the year',fontsize=15)\n",
    "ax.set_xticklabels(range(0,52), rotation='horizontal', fontsize=15)\n",
    "plt.show()"
   ]
  },
  {
   "cell_type": "markdown",
   "metadata": {
    "colab_type": "text",
    "id": "tTyoU9SNJVlv"
   },
   "source": [
    "### Analyze Unit Prices of our items"
   ]
  },
  {
   "cell_type": "code",
   "execution_count": 42,
   "metadata": {
    "colab": {
     "base_uri": "https://localhost:8080/",
     "height": 173
    },
    "colab_type": "code",
    "executionInfo": {
     "elapsed": 1006,
     "status": "ok",
     "timestamp": 1574027661650,
     "user": {
      "displayName": "Rajeev Ratan",
      "photoUrl": "https://lh3.googleusercontent.com/a-/AAuE7mCGo6aIm0tOcd5EhqWlYb0rime9sBvHS9YMpx0D2w=s64",
      "userId": "08597265227091462140"
     },
     "user_tz": 0
    },
    "id": "mV0j8JhPjPvE",
    "outputId": "2bc0d360-1d00-474b-f06a-58c76a694405",
    "scrolled": true
   },
   "outputs": [
    {
     "data": {
      "text/plain": [
       "count    397924.000000\n",
       "mean          3.116174\n",
       "std          22.096788\n",
       "min           0.000000\n",
       "25%           1.250000\n",
       "50%           1.950000\n",
       "75%           3.750000\n",
       "max        8142.750000\n",
       "Name: UnitPrice, dtype: float64"
      ]
     },
     "execution_count": 42,
     "metadata": {},
     "output_type": "execute_result"
    }
   ],
   "source": [
    "data2.UnitPrice.describe()"
   ]
  },
  {
   "cell_type": "code",
   "execution_count": 43,
   "metadata": {
    "colab": {
     "base_uri": "https://localhost:8080/",
     "height": 394
    },
    "colab_type": "code",
    "executionInfo": {
     "elapsed": 1467,
     "status": "ok",
     "timestamp": 1574027669759,
     "user": {
      "displayName": "Rajeev Ratan",
      "photoUrl": "https://lh3.googleusercontent.com/a-/AAuE7mCGo6aIm0tOcd5EhqWlYb0rime9sBvHS9YMpx0D2w=s64",
      "userId": "08597265227091462140"
     },
     "user_tz": 0
    },
    "id": "PK0xWaISjPvG",
    "outputId": "65a5a47d-cafa-412f-90c5-3b446ce401a1",
    "scrolled": true
   },
   "outputs": [
    {
     "data": {
      "image/png": "[encoded data removed]",
      "text/plain": [
       "<Figure size 864x432 with 1 Axes>"
      ]
     },
     "metadata": {},
     "output_type": "display_data"
    }
   ],
   "source": [
    "# check the distribution of unit price\n",
    "plt.subplots(figsize=(12,6))\n",
    "sns.boxplot(data2.UnitPrice)\n",
    "plt.show()"
   ]
  },
  {
   "cell_type": "code",
   "execution_count": 44,
   "metadata": {
    "colab": {
     "base_uri": "https://localhost:8080/",
     "height": 413
    },
    "colab_type": "code",
    "executionInfo": {
     "elapsed": 973,
     "status": "ok",
     "timestamp": 1574027697716,
     "user": {
      "displayName": "Rajeev Ratan",
      "photoUrl": "https://lh3.googleusercontent.com/a-/AAuE7mCGo6aIm0tOcd5EhqWlYb0rime9sBvHS9YMpx0D2w=s64",
      "userId": "08597265227091462140"
     },
     "user_tz": 0
    },
    "id": "K0TeWRq7jPvJ",
    "outputId": "2ecd14d0-e2e8-4eb7-820d-52717a44c4dc",
    "scrolled": true
   },
   "outputs": [
    {
     "name": "stdout",
     "output_type": "stream",
     "text": [
      "40\n"
     ]
    },
    {
     "data": {
      "text/html": [
       "<div>\n",
       "<style scoped>\n",
       "    .dataframe tbody tr th:only-of-type {\n",
       "        vertical-align: middle;\n",
       "    }\n",
       "\n",
       "    .dataframe tbody tr th {\n",
       "        vertical-align: top;\n",
       "    }\n",
       "\n",
       "    .dataframe thead th {\n",
       "        text-align: right;\n",
       "    }\n",
       "</style>\n",
       "<table border=\"1\" class=\"dataframe\">\n",
       "  <thead>\n",
       "    <tr style=\"text-align: right;\">\n",
       "      <th></th>\n",
       "      <th>InvoiceNo</th>\n",
       "      <th>StockCode</th>\n",
       "      <th>year_month</th>\n",
       "      <th>Description</th>\n",
       "      <th>Quantity</th>\n",
       "      <th>hour</th>\n",
       "      <th>InvoiceDate</th>\n",
       "      <th>UnitPrice</th>\n",
       "      <th>CustomerID</th>\n",
       "      <th>Country</th>\n",
       "      <th>AmountSpent</th>\n",
       "      <th>month_year</th>\n",
       "      <th>year</th>\n",
       "      <th>month</th>\n",
       "      <th>day</th>\n",
       "      <th>dayofweek</th>\n",
       "      <th>dayofyear</th>\n",
       "      <th>weekofyear</th>\n",
       "      <th>quarter</th>\n",
       "    </tr>\n",
       "  </thead>\n",
       "  <tbody>\n",
       "    <tr>\n",
       "      <th>9302</th>\n",
       "      <td>537197</td>\n",
       "      <td>22841</td>\n",
       "      <td>201012</td>\n",
       "      <td>ROUND CAKE TIN VINTAGE GREEN</td>\n",
       "      <td>1</td>\n",
       "      <td>14</td>\n",
       "      <td>2010-12-05 14:02:00</td>\n",
       "      <td>0.0</td>\n",
       "      <td>12647</td>\n",
       "      <td>Germany</td>\n",
       "      <td>0.0</td>\n",
       "      <td>2010-12</td>\n",
       "      <td>2010</td>\n",
       "      <td>12</td>\n",
       "      <td>5</td>\n",
       "      <td>7</td>\n",
       "      <td>339</td>\n",
       "      <td>48</td>\n",
       "      <td>4</td>\n",
       "    </tr>\n",
       "    <tr>\n",
       "      <th>33576</th>\n",
       "      <td>539263</td>\n",
       "      <td>22580</td>\n",
       "      <td>201012</td>\n",
       "      <td>ADVENT CALENDAR GINGHAM SACK</td>\n",
       "      <td>4</td>\n",
       "      <td>14</td>\n",
       "      <td>2010-12-16 14:36:00</td>\n",
       "      <td>0.0</td>\n",
       "      <td>16560</td>\n",
       "      <td>United Kingdom</td>\n",
       "      <td>0.0</td>\n",
       "      <td>2010-12</td>\n",
       "      <td>2010</td>\n",
       "      <td>12</td>\n",
       "      <td>16</td>\n",
       "      <td>4</td>\n",
       "      <td>350</td>\n",
       "      <td>50</td>\n",
       "      <td>4</td>\n",
       "    </tr>\n",
       "    <tr>\n",
       "      <th>40089</th>\n",
       "      <td>539722</td>\n",
       "      <td>22423</td>\n",
       "      <td>201012</td>\n",
       "      <td>REGENCY CAKESTAND 3 TIER</td>\n",
       "      <td>10</td>\n",
       "      <td>13</td>\n",
       "      <td>2010-12-21 13:45:00</td>\n",
       "      <td>0.0</td>\n",
       "      <td>14911</td>\n",
       "      <td>EIRE</td>\n",
       "      <td>0.0</td>\n",
       "      <td>2010-12</td>\n",
       "      <td>2010</td>\n",
       "      <td>12</td>\n",
       "      <td>21</td>\n",
       "      <td>2</td>\n",
       "      <td>355</td>\n",
       "      <td>51</td>\n",
       "      <td>4</td>\n",
       "    </tr>\n",
       "    <tr>\n",
       "      <th>47068</th>\n",
       "      <td>540372</td>\n",
       "      <td>22090</td>\n",
       "      <td>201101</td>\n",
       "      <td>PAPER BUNTING RETROSPOT</td>\n",
       "      <td>24</td>\n",
       "      <td>16</td>\n",
       "      <td>2011-01-06 16:41:00</td>\n",
       "      <td>0.0</td>\n",
       "      <td>13081</td>\n",
       "      <td>United Kingdom</td>\n",
       "      <td>0.0</td>\n",
       "      <td>2011-01</td>\n",
       "      <td>2011</td>\n",
       "      <td>1</td>\n",
       "      <td>6</td>\n",
       "      <td>4</td>\n",
       "      <td>6</td>\n",
       "      <td>1</td>\n",
       "      <td>1</td>\n",
       "    </tr>\n",
       "    <tr>\n",
       "      <th>47070</th>\n",
       "      <td>540372</td>\n",
       "      <td>22553</td>\n",
       "      <td>201101</td>\n",
       "      <td>PLASTERS IN TIN SKULLS</td>\n",
       "      <td>24</td>\n",
       "      <td>16</td>\n",
       "      <td>2011-01-06 16:41:00</td>\n",
       "      <td>0.0</td>\n",
       "      <td>13081</td>\n",
       "      <td>United Kingdom</td>\n",
       "      <td>0.0</td>\n",
       "      <td>2011-01</td>\n",
       "      <td>2011</td>\n",
       "      <td>1</td>\n",
       "      <td>6</td>\n",
       "      <td>4</td>\n",
       "      <td>6</td>\n",
       "      <td>1</td>\n",
       "      <td>1</td>\n",
       "    </tr>\n",
       "  </tbody>\n",
       "</table>\n",
       "</div>"
      ],
      "text/plain": [
       "      InvoiceNo StockCode  year_month                   Description  Quantity  \\\n",
       "9302     537197     22841      201012  ROUND CAKE TIN VINTAGE GREEN         1   \n",
       "33576    539263     22580      201012  ADVENT CALENDAR GINGHAM SACK         4   \n",
       "40089    539722     22423      201012      REGENCY CAKESTAND 3 TIER        10   \n",
       "47068    540372     22090      201101       PAPER BUNTING RETROSPOT        24   \n",
       "47070    540372     22553      201101        PLASTERS IN TIN SKULLS        24   \n",
       "\n",
       "       hour         InvoiceDate  UnitPrice  CustomerID         Country  \\\n",
       "9302     14 2010-12-05 14:02:00        0.0       12647         Germany   \n",
       "33576    14 2010-12-16 14:36:00        0.0       16560  United Kingdom   \n",
       "40089    13 2010-12-21 13:45:00        0.0       14911            EIRE   \n",
       "47068    16 2011-01-06 16:41:00        0.0       13081  United Kingdom   \n",
       "47070    16 2011-01-06 16:41:00        0.0       13081  United Kingdom   \n",
       "\n",
       "       AmountSpent month_year  year  month  day  dayofweek  dayofyear  \\\n",
       "9302           0.0    2010-12  2010     12    5          7        339   \n",
       "33576          0.0    2010-12  2010     12   16          4        350   \n",
       "40089          0.0    2010-12  2010     12   21          2        355   \n",
       "47068          0.0    2011-01  2011      1    6          4          6   \n",
       "47070          0.0    2011-01  2011      1    6          4          6   \n",
       "\n",
       "       weekofyear  quarter  \n",
       "9302           48        4  \n",
       "33576          50        4  \n",
       "40089          51        4  \n",
       "47068           1        1  \n",
       "47070           1        1  "
      ]
     },
     "execution_count": 44,
     "metadata": {},
     "output_type": "execute_result"
    }
   ],
   "source": [
    "# What are the free items\n",
    "DataFreeItems = data2[data2.UnitPrice == 0]\n",
    "print(len(DataFreeItems))\n",
    "DataFreeItems.head()"
   ]
  },
  {
   "cell_type": "code",
   "execution_count": 45,
   "metadata": {
    "colab": {
     "base_uri": "https://localhost:8080/",
     "height": 225
    },
    "colab_type": "code",
    "executionInfo": {
     "elapsed": 1124,
     "status": "ok",
     "timestamp": 1574027707647,
     "user": {
      "displayName": "Rajeev Ratan",
      "photoUrl": "https://lh3.googleusercontent.com/a-/AAuE7mCGo6aIm0tOcd5EhqWlYb0rime9sBvHS9YMpx0D2w=s64",
      "userId": "08597265227091462140"
     },
     "user_tz": 0
    },
    "id": "B0A81-6qjPvM",
    "outputId": "26f6ccdb-1cc3-4c64-fc26-e991628e6559",
    "scrolled": true
   },
   "outputs": [
    {
     "data": {
      "text/plain": [
       "201012     3\n",
       "201101     3\n",
       "201102     1\n",
       "201103     2\n",
       "201104     2\n",
       "201105     2\n",
       "201107     2\n",
       "201108     6\n",
       "201109     2\n",
       "201110     3\n",
       "201111    14\n",
       "Name: year_month, dtype: int64"
      ]
     },
     "execution_count": 45,
     "metadata": {},
     "output_type": "execute_result"
    }
   ],
   "source": [
    "# See when these free items were given out\n",
    "DataFreeItems.year_month.value_counts().sort_index()"
   ]
  },
  {
   "cell_type": "code",
   "execution_count": 46,
   "metadata": {
    "colab": {
     "base_uri": "https://localhost:8080/",
     "height": 417
    },
    "colab_type": "code",
    "executionInfo": {
     "elapsed": 1182,
     "status": "ok",
     "timestamp": 1574027715201,
     "user": {
      "displayName": "Rajeev Ratan",
      "photoUrl": "https://lh3.googleusercontent.com/a-/AAuE7mCGo6aIm0tOcd5EhqWlYb0rime9sBvHS9YMpx0D2w=s64",
      "userId": "08597265227091462140"
     },
     "user_tz": 0
    },
    "id": "ryeCfydCjPvO",
    "outputId": "db463776-438a-4c03-998e-abdbf3df4305",
    "scrolled": true
   },
   "outputs": [
    {
     "data": {
      "image/png": "[encoded data removed]",
      "text/plain": [
       "<Figure size 864x432 with 1 Axes>"
      ]
     },
     "metadata": {},
     "output_type": "display_data"
    }
   ],
   "source": [
    "# Ploting the above data\n",
    "ax = DataFreeItems.year_month.value_counts().sort_index().plot(kind='bar',figsize=(12,6), color='blue')\n",
    "ax.set_xlabel('Month',fontsize=15)\n",
    "ax.set_ylabel('Frequency',fontsize=15)\n",
    "ax.set_title('Frequency for different Months (Dec 2010 - Dec 2011)',fontsize=15)\n",
    "ax.set_xticklabels(('Dec_10','Jan_11','Feb_11','Mar_11','Apr_11','May_11','July_11','Aug_11','Sep_11','Oct_11','Nov_11'), rotation='horizontal', fontsize=13)\n",
    "plt.show()"
   ]
  },
  {
   "cell_type": "markdown",
   "metadata": {
    "colab_type": "text",
    "id": "zZtX5E3mJsae"
   },
   "source": [
    "On average, the company gave out 2-4 times FREE items to customers each month (Except in June 2011)"
   ]
  },
  {
   "cell_type": "markdown",
   "metadata": {
    "colab_type": "text",
    "id": "xuAU4H--Jv7e"
   },
   "source": [
    "### Analysis per Country"
   ]
  },
  {
   "cell_type": "code",
   "execution_count": 47,
   "metadata": {
    "colab": {
     "base_uri": "https://localhost:8080/",
     "height": 521
    },
    "colab_type": "code",
    "executionInfo": {
     "elapsed": 1742,
     "status": "ok",
     "timestamp": 1574027802387,
     "user": {
      "displayName": "Rajeev Ratan",
      "photoUrl": "https://lh3.googleusercontent.com/a-/AAuE7mCGo6aIm0tOcd5EhqWlYb0rime9sBvHS9YMpx0D2w=s64",
      "userId": "08597265227091462140"
     },
     "user_tz": 0
    },
    "id": "2olzi8uDjPvZ",
    "outputId": "92425862-9428-4075-a64f-bcb78a8c870d",
    "scrolled": true
   },
   "outputs": [
    {
     "data": {
      "image/png": "[encoded data removed]",
      "text/plain": [
       "<Figure size 1080x576 with 1 Axes>"
      ]
     },
     "metadata": {},
     "output_type": "display_data"
    }
   ],
   "source": [
    "GroupCountryOrders = data2.groupby('Country')['InvoiceDate'].count().sort_values()\n",
    "\n",
    "# plot number of unique customers in each country (with UK)\n",
    "plt.subplots(figsize=(15,8))\n",
    "GroupCountryOrders.plot(kind='barh', fontsize=12, color='blue')\n",
    "plt.xlabel('Number of Orders', fontsize=12)\n",
    "plt.ylabel('Country', fontsize=12)\n",
    "plt.title('Number of Orders for different Countries', fontsize=12)\n",
    "plt.show()"
   ]
  },
  {
   "cell_type": "code",
   "execution_count": 48,
   "metadata": {
    "colab": {
     "base_uri": "https://localhost:8080/",
     "height": 521
    },
    "colab_type": "code",
    "executionInfo": {
     "elapsed": 1941,
     "status": "ok",
     "timestamp": 1574027821023,
     "user": {
      "displayName": "Rajeev Ratan",
      "photoUrl": "https://lh3.googleusercontent.com/a-/AAuE7mCGo6aIm0tOcd5EhqWlYb0rime9sBvHS9YMpx0D2w=s64",
      "userId": "08597265227091462140"
     },
     "user_tz": 0
    },
    "id": "hhDCh-XAjPvc",
    "outputId": "b746d953-3bae-463e-f12d-cea06e1e87d6",
    "scrolled": true
   },
   "outputs": [
    {
     "data": {
      "image/png": "[encoded data removed]",
      "text/plain": [
       "<Figure size 1080x576 with 1 Axes>"
      ]
     },
     "metadata": {},
     "output_type": "display_data"
    }
   ],
   "source": [
    "# Excluding UK now\n",
    "\n",
    "GroupCountryOrders = data2.groupby('Country')['InvoiceDate'].count().sort_values()\n",
    "GroupCountryOrdersWithoutUk = GroupCountryOrders.copy()\n",
    "del GroupCountryOrdersWithoutUk['United Kingdom']\n",
    "\n",
    "# plot number of unique customers in each country (without UK)\n",
    "plt.subplots(figsize=(15,8))\n",
    "GroupCountryOrdersWithoutUk.plot(kind='barh', fontsize=12, color='blue')\n",
    "plt.xlabel('Number of Orders', fontsize=12)\n",
    "plt.ylabel('Country', fontsize=12)\n",
    "plt.title('Number of Orders for different Countries', fontsize=12)\n",
    "plt.show()"
   ]
  },
  {
   "cell_type": "code",
   "execution_count": 49,
   "metadata": {
    "colab": {
     "base_uri": "https://localhost:8080/",
     "height": 521
    },
    "colab_type": "code",
    "executionInfo": {
     "elapsed": 2079,
     "status": "ok",
     "timestamp": 1574027843362,
     "user": {
      "displayName": "Rajeev Ratan",
      "photoUrl": "https://lh3.googleusercontent.com/a-/AAuE7mCGo6aIm0tOcd5EhqWlYb0rime9sBvHS9YMpx0D2w=s64",
      "userId": "08597265227091462140"
     },
     "user_tz": 0
    },
    "id": "_VBm0GdEjPvf",
    "outputId": "d1109193-d631-49a6-83af-6cc688f4103c",
    "scrolled": true
   },
   "outputs": [
    {
     "data": {
      "image/png": "[encoded data removed]",
      "text/plain": [
       "<Figure size 1080x576 with 1 Axes>"
      ]
     },
     "metadata": {},
     "output_type": "display_data"
    }
   ],
   "source": [
    "# Amount spent by each country (without UK)\n",
    "GroupCountryAmountSpent = data2.groupby('Country')['AmountSpent'].sum().sort_values()\n",
    "del GroupCountryAmountSpent['United Kingdom']\n",
    "\n",
    "# plot total money spent by each country (without UK)\n",
    "plt.subplots(figsize=(15,8))\n",
    "GroupCountryAmountSpent.plot(kind='barh', fontsize=12, color='blue')\n",
    "plt.xlabel('Money Spent (Dollar)', fontsize=12)\n",
    "plt.ylabel('Country', fontsize=12)\n",
    "plt.title('Money Spent by different Countries', fontsize=12)\n",
    "plt.show()"
   ]
  },
  {
   "cell_type": "markdown",
   "metadata": {
    "colab_type": "text",
    "id": "BRCl9TXbjPvj"
   },
   "source": [
    "## Repeat Customers"
   ]
  },
  {
   "cell_type": "code",
   "execution_count": 50,
   "metadata": {
    "colab": {
     "base_uri": "https://localhost:8080/",
     "height": 35
    },
    "colab_type": "code",
    "executionInfo": {
     "elapsed": 444,
     "status": "ok",
     "timestamp": 1574027894687,
     "user": {
      "displayName": "Rajeev Ratan",
      "photoUrl": "https://lh3.googleusercontent.com/a-/AAuE7mCGo6aIm0tOcd5EhqWlYb0rime9sBvHS9YMpx0D2w=s64",
      "userId": "08597265227091462140"
     },
     "user_tz": 0
    },
    "id": "f6u-5DL_jPvk",
    "outputId": "ee6f7733-2149-4b43-981f-69457961eef8",
    "scrolled": true
   },
   "outputs": [
    {
     "name": "stdout",
     "output_type": "stream",
     "text": [
      "Date Range: 2010-12-01 08:26:00 to 2011-12-09 12:50:00\n"
     ]
    }
   ],
   "source": [
    "# Get our date range for our data\n",
    "print('Date Range: %s to %s' % (data2['InvoiceDate'].min(), data2['InvoiceDate'].max()))\n",
    "\n",
    "# Since Our data ends at Nov-30 2011, we're taking all of the transactions that occurred before December 01, 2011 \n",
    "data2 = data2.loc[data2['InvoiceDate'] < '2011-12-01']"
   ]
  },
  {
   "cell_type": "code",
   "execution_count": 51,
   "metadata": {
    "colab": {
     "base_uri": "https://localhost:8080/",
     "height": 202
    },
    "colab_type": "code",
    "executionInfo": {
     "elapsed": 2271,
     "status": "ok",
     "timestamp": 1574027927591,
     "user": {
      "displayName": "Rajeev Ratan",
      "photoUrl": "https://lh3.googleusercontent.com/a-/AAuE7mCGo6aIm0tOcd5EhqWlYb0rime9sBvHS9YMpx0D2w=s64",
      "userId": "08597265227091462140"
     },
     "user_tz": 0
    },
    "id": "NfoYCVJLjPvl",
    "outputId": "b5d3e6cc-4535-435b-cb26-8e8a21397975",
    "scrolled": true
   },
   "outputs": [
    {
     "data": {
      "text/html": [
       "<div>\n",
       "<style scoped>\n",
       "    .dataframe tbody tr th:only-of-type {\n",
       "        vertical-align: middle;\n",
       "    }\n",
       "\n",
       "    .dataframe tbody tr th {\n",
       "        vertical-align: top;\n",
       "    }\n",
       "\n",
       "    .dataframe thead th {\n",
       "        text-align: right;\n",
       "    }\n",
       "</style>\n",
       "<table border=\"1\" class=\"dataframe\">\n",
       "  <thead>\n",
       "    <tr style=\"text-align: right;\">\n",
       "      <th></th>\n",
       "      <th>InvoiceNo</th>\n",
       "      <th>InvoiceDate</th>\n",
       "      <th>AmountSpent</th>\n",
       "      <th>CustomerID</th>\n",
       "      <th>Country</th>\n",
       "    </tr>\n",
       "  </thead>\n",
       "  <tbody>\n",
       "    <tr>\n",
       "      <th>0</th>\n",
       "      <td>536365</td>\n",
       "      <td>2010-12-01 08:26:00</td>\n",
       "      <td>139.12</td>\n",
       "      <td>17850</td>\n",
       "      <td>United Kingdom</td>\n",
       "    </tr>\n",
       "    <tr>\n",
       "      <th>1</th>\n",
       "      <td>536366</td>\n",
       "      <td>2010-12-01 08:28:00</td>\n",
       "      <td>22.20</td>\n",
       "      <td>17850</td>\n",
       "      <td>United Kingdom</td>\n",
       "    </tr>\n",
       "    <tr>\n",
       "      <th>2</th>\n",
       "      <td>536367</td>\n",
       "      <td>2010-12-01 08:34:00</td>\n",
       "      <td>278.73</td>\n",
       "      <td>13047</td>\n",
       "      <td>United Kingdom</td>\n",
       "    </tr>\n",
       "    <tr>\n",
       "      <th>3</th>\n",
       "      <td>536368</td>\n",
       "      <td>2010-12-01 08:34:00</td>\n",
       "      <td>70.05</td>\n",
       "      <td>13047</td>\n",
       "      <td>United Kingdom</td>\n",
       "    </tr>\n",
       "    <tr>\n",
       "      <th>4</th>\n",
       "      <td>536369</td>\n",
       "      <td>2010-12-01 08:35:00</td>\n",
       "      <td>17.85</td>\n",
       "      <td>13047</td>\n",
       "      <td>United Kingdom</td>\n",
       "    </tr>\n",
       "  </tbody>\n",
       "</table>\n",
       "</div>"
      ],
      "text/plain": [
       "  InvoiceNo         InvoiceDate  AmountSpent  CustomerID         Country\n",
       "0    536365 2010-12-01 08:26:00       139.12       17850  United Kingdom\n",
       "1    536366 2010-12-01 08:28:00        22.20       17850  United Kingdom\n",
       "2    536367 2010-12-01 08:34:00       278.73       13047  United Kingdom\n",
       "3    536368 2010-12-01 08:34:00        70.05       13047  United Kingdom\n",
       "4    536369 2010-12-01 08:35:00        17.85       13047  United Kingdom"
      ]
     },
     "execution_count": 51,
     "metadata": {},
     "output_type": "execute_result"
    }
   ],
   "source": [
    "# Get total amount spent per invoice and associate it with CustomerID and Country\n",
    "InvoiceCustomer = data2.groupby(by=['InvoiceNo', 'InvoiceDate']).agg({'AmountSpent': sum, 'CustomerID': max,'Country': max,}).reset_index()\n",
    "InvoiceCustomer.head()"
   ]
  },
  {
   "cell_type": "code",
   "execution_count": 52,
   "metadata": {
    "colab": {
     "base_uri": "https://localhost:8080/",
     "height": 355
    },
    "colab_type": "code",
    "executionInfo": {
     "elapsed": 409,
     "status": "ok",
     "timestamp": 1574027957509,
     "user": {
      "displayName": "Rajeev Ratan",
      "photoUrl": "https://lh3.googleusercontent.com/a-/AAuE7mCGo6aIm0tOcd5EhqWlYb0rime9sBvHS9YMpx0D2w=s64",
      "userId": "08597265227091462140"
     },
     "user_tz": 0
    },
    "id": "6P9_gNO2jPvn",
    "outputId": "3656ae45-9a6e-44cb-bd03-369bd305c883",
    "scrolled": true
   },
   "outputs": [
    {
     "data": {
      "text/html": [
       "<div>\n",
       "<style scoped>\n",
       "    .dataframe tbody tr th:only-of-type {\n",
       "        vertical-align: middle;\n",
       "    }\n",
       "\n",
       "    .dataframe tbody tr th {\n",
       "        vertical-align: top;\n",
       "    }\n",
       "\n",
       "    .dataframe thead th {\n",
       "        text-align: right;\n",
       "    }\n",
       "</style>\n",
       "<table border=\"1\" class=\"dataframe\">\n",
       "  <thead>\n",
       "    <tr style=\"text-align: right;\">\n",
       "      <th></th>\n",
       "      <th>InvoiceNo</th>\n",
       "      <th>InvoiceDate</th>\n",
       "      <th>AmountSpent</th>\n",
       "      <th>CustomerID</th>\n",
       "      <th>Country</th>\n",
       "    </tr>\n",
       "  </thead>\n",
       "  <tbody>\n",
       "    <tr>\n",
       "      <th>1911</th>\n",
       "      <td>541431</td>\n",
       "      <td>2011-01-18 10:01:00</td>\n",
       "      <td>77183.60</td>\n",
       "      <td>12346</td>\n",
       "      <td>United Kingdom</td>\n",
       "    </tr>\n",
       "    <tr>\n",
       "      <th>7949</th>\n",
       "      <td>556444</td>\n",
       "      <td>2011-06-10 15:28:00</td>\n",
       "      <td>38970.00</td>\n",
       "      <td>15098</td>\n",
       "      <td>United Kingdom</td>\n",
       "    </tr>\n",
       "    <tr>\n",
       "      <th>12446</th>\n",
       "      <td>567423</td>\n",
       "      <td>2011-09-20 11:05:00</td>\n",
       "      <td>31698.16</td>\n",
       "      <td>17450</td>\n",
       "      <td>United Kingdom</td>\n",
       "    </tr>\n",
       "    <tr>\n",
       "      <th>8135</th>\n",
       "      <td>556917</td>\n",
       "      <td>2011-06-15 13:37:00</td>\n",
       "      <td>22775.93</td>\n",
       "      <td>12415</td>\n",
       "      <td>Australia</td>\n",
       "    </tr>\n",
       "    <tr>\n",
       "      <th>14487</th>\n",
       "      <td>572209</td>\n",
       "      <td>2011-10-21 12:08:00</td>\n",
       "      <td>22206.00</td>\n",
       "      <td>18102</td>\n",
       "      <td>United Kingdom</td>\n",
       "    </tr>\n",
       "    <tr>\n",
       "      <th>12438</th>\n",
       "      <td>567381</td>\n",
       "      <td>2011-09-20 10:12:00</td>\n",
       "      <td>22104.80</td>\n",
       "      <td>17450</td>\n",
       "      <td>United Kingdom</td>\n",
       "    </tr>\n",
       "    <tr>\n",
       "      <th>10869</th>\n",
       "      <td>563614</td>\n",
       "      <td>2011-08-18 08:51:00</td>\n",
       "      <td>21880.44</td>\n",
       "      <td>12415</td>\n",
       "      <td>Australia</td>\n",
       "    </tr>\n",
       "    <tr>\n",
       "      <th>5481</th>\n",
       "      <td>550461</td>\n",
       "      <td>2011-04-18 13:20:00</td>\n",
       "      <td>21535.90</td>\n",
       "      <td>15749</td>\n",
       "      <td>United Kingdom</td>\n",
       "    </tr>\n",
       "    <tr>\n",
       "      <th>14399</th>\n",
       "      <td>572035</td>\n",
       "      <td>2011-10-20 12:03:00</td>\n",
       "      <td>20277.92</td>\n",
       "      <td>14646</td>\n",
       "      <td>Netherlands</td>\n",
       "    </tr>\n",
       "    <tr>\n",
       "      <th>10637</th>\n",
       "      <td>563076</td>\n",
       "      <td>2011-08-11 16:12:00</td>\n",
       "      <td>19150.66</td>\n",
       "      <td>14646</td>\n",
       "      <td>Netherlands</td>\n",
       "    </tr>\n",
       "  </tbody>\n",
       "</table>\n",
       "</div>"
      ],
      "text/plain": [
       "      InvoiceNo         InvoiceDate  AmountSpent  CustomerID         Country\n",
       "1911     541431 2011-01-18 10:01:00     77183.60       12346  United Kingdom\n",
       "7949     556444 2011-06-10 15:28:00     38970.00       15098  United Kingdom\n",
       "12446    567423 2011-09-20 11:05:00     31698.16       17450  United Kingdom\n",
       "8135     556917 2011-06-15 13:37:00     22775.93       12415       Australia\n",
       "14487    572209 2011-10-21 12:08:00     22206.00       18102  United Kingdom\n",
       "12438    567381 2011-09-20 10:12:00     22104.80       17450  United Kingdom\n",
       "10869    563614 2011-08-18 08:51:00     21880.44       12415       Australia\n",
       "5481     550461 2011-04-18 13:20:00     21535.90       15749  United Kingdom\n",
       "14399    572035 2011-10-20 12:03:00     20277.92       14646     Netherlands\n",
       "10637    563076 2011-08-11 16:12:00     19150.66       14646     Netherlands"
      ]
     },
     "execution_count": 52,
     "metadata": {},
     "output_type": "execute_result"
    }
   ],
   "source": [
    "# Sort on Amount spent, this gives us the largest invoices\n",
    "InvoiceCustomer.sort_values(by='AmountSpent', ascending=False).head(10)"
   ]
  },
  {
   "cell_type": "code",
   "execution_count": 53,
   "metadata": {
    "colab": {
     "base_uri": "https://localhost:8080/",
     "height": 260
    },
    "colab_type": "code",
    "executionInfo": {
     "elapsed": 3364,
     "status": "ok",
     "timestamp": 1574025819029,
     "user": {
      "displayName": "Rajeev Ratan",
      "photoUrl": "https://lh3.googleusercontent.com/a-/AAuE7mCGo6aIm0tOcd5EhqWlYb0rime9sBvHS9YMpx0D2w=s64",
      "userId": "08597265227091462140"
     },
     "user_tz": 0
    },
    "id": "_8W2JBCbjPvo",
    "outputId": "6977c4e7-5797-4fc8-feb1-1c109491cd66",
    "scrolled": true
   },
   "outputs": [
    {
     "data": {
      "text/plain": [
       "InvoiceDate\n",
       "2010-12-31    263\n",
       "2011-01-31    153\n",
       "2011-02-28    153\n",
       "2011-03-31    203\n",
       "2011-04-30    170\n",
       "2011-05-31    281\n",
       "2011-06-30    220\n",
       "2011-07-31    227\n",
       "2011-08-31    198\n",
       "2011-09-30    272\n",
       "2011-10-31    324\n",
       "2011-11-30    541\n",
       "Freq: M, Name: CustomerID, dtype: int64"
      ]
     },
     "execution_count": 53,
     "metadata": {},
     "output_type": "execute_result"
    }
   ],
   "source": [
    "# We set our index to our invoice date\n",
    "# And use Grouper(freq='M') groups data by the index 'InvoiceDate' by Month\n",
    "# We then group this data by CustomerID and count the number of unique repeat customers for that month (data is the month end date)\n",
    "# The filter fucntion allows us to subselect data by the rule in our lambda function i.e. those greater than 1 (repeat customers)\n",
    "\n",
    "MonthlyRepeatCustomers = InvoiceCustomer.set_index('InvoiceDate').groupby([\n",
    "  pd.Grouper(freq='M'), 'CustomerID']).filter(lambda x: len(x) > 1).resample('M').nunique()['CustomerID']\n",
    "\n",
    "MonthlyRepeatCustomers\n"
   ]
  },
  {
   "cell_type": "code",
   "execution_count": 54,
   "metadata": {
    "colab": {
     "base_uri": "https://localhost:8080/",
     "height": 260
    },
    "colab_type": "code",
    "executionInfo": {
     "elapsed": 408,
     "status": "ok",
     "timestamp": 1574028085617,
     "user": {
      "displayName": "Rajeev Ratan",
      "photoUrl": "https://lh3.googleusercontent.com/a-/AAuE7mCGo6aIm0tOcd5EhqWlYb0rime9sBvHS9YMpx0D2w=s64",
      "userId": "08597265227091462140"
     },
     "user_tz": 0
    },
    "id": "6LIGb18MjPvq",
    "outputId": "f4c06862-fb48-4b8d-b8e2-c157895974ba",
    "scrolled": true
   },
   "outputs": [
    {
     "data": {
      "text/plain": [
       "InvoiceDate\n",
       "2010-12-31     885\n",
       "2011-01-31     741\n",
       "2011-02-28     758\n",
       "2011-03-31     974\n",
       "2011-04-30     856\n",
       "2011-05-31    1056\n",
       "2011-06-30     991\n",
       "2011-07-31     949\n",
       "2011-08-31     935\n",
       "2011-09-30    1266\n",
       "2011-10-31    1364\n",
       "2011-11-30    1665\n",
       "Freq: M, Name: CustomerID, dtype: int64"
      ]
     },
     "execution_count": 54,
     "metadata": {},
     "output_type": "execute_result"
    }
   ],
   "source": [
    "# Number of Unique customers per month\n",
    "MonthlyUniqueCustomers = data2.set_index('InvoiceDate')['CustomerID'].resample('M').nunique()\n",
    "MonthlyUniqueCustomers"
   ]
  },
  {
   "cell_type": "code",
   "execution_count": 55,
   "metadata": {
    "colab": {
     "base_uri": "https://localhost:8080/",
     "height": 260
    },
    "colab_type": "code",
    "executionInfo": {
     "elapsed": 422,
     "status": "ok",
     "timestamp": 1574028098555,
     "user": {
      "displayName": "Rajeev Ratan",
      "photoUrl": "https://lh3.googleusercontent.com/a-/AAuE7mCGo6aIm0tOcd5EhqWlYb0rime9sBvHS9YMpx0D2w=s64",
      "userId": "08597265227091462140"
     },
     "user_tz": 0
    },
    "id": "Gl5MC28sjPvt",
    "outputId": "c0a2071d-0740-48f2-e419-189b1107e819",
    "scrolled": true
   },
   "outputs": [
    {
     "data": {
      "text/plain": [
       "InvoiceDate\n",
       "2010-12-31    29.717514\n",
       "2011-01-31    20.647773\n",
       "2011-02-28    20.184697\n",
       "2011-03-31    20.841889\n",
       "2011-04-30    19.859813\n",
       "2011-05-31    26.609848\n",
       "2011-06-30    22.199798\n",
       "2011-07-31    23.919916\n",
       "2011-08-31    21.176471\n",
       "2011-09-30    21.484992\n",
       "2011-10-31    23.753666\n",
       "2011-11-30    32.492492\n",
       "Freq: M, Name: CustomerID, dtype: float64"
      ]
     },
     "execution_count": 55,
     "metadata": {},
     "output_type": "execute_result"
    }
   ],
   "source": [
    "# Ratio of Repeat to Unique customers\n",
    "MonthlyRepeatPercentage = MonthlyRepeatCustomers/MonthlyUniqueCustomers*100.0\n",
    "MonthlyRepeatPercentage"
   ]
  },
  {
   "cell_type": "code",
   "execution_count": 56,
   "metadata": {
    "colab": {
     "base_uri": "https://localhost:8080/",
     "height": 554
    },
    "colab_type": "code",
    "executionInfo": {
     "elapsed": 1296,
     "status": "ok",
     "timestamp": 1574028154090,
     "user": {
      "displayName": "Rajeev Ratan",
      "photoUrl": "https://lh3.googleusercontent.com/a-/AAuE7mCGo6aIm0tOcd5EhqWlYb0rime9sBvHS9YMpx0D2w=s64",
      "userId": "08597265227091462140"
     },
     "user_tz": 0
    },
    "id": "IJDHDPlAjPvu",
    "outputId": "fc3b28b0-5e07-4e37-d9c1-8a73d47e4901",
    "scrolled": true
   },
   "outputs": [
    {
     "data": {
      "image/png": "[encoded data removed]",
      "text/plain": [
       "<Figure size 864x576 with 2 Axes>"
      ]
     },
     "metadata": {},
     "output_type": "display_data"
    }
   ],
   "source": [
    "# Plotting this visually\n",
    "# Note we're using a 2 scale y axis (left and right)\n",
    "\n",
    "ax = pd.DataFrame(MonthlyRepeatCustomers.values).plot(figsize=(12,8))\n",
    "\n",
    "pd.DataFrame(MonthlyUniqueCustomers.values).plot(ax=ax,grid=True)\n",
    "\n",
    "ax2 = pd.DataFrame(MonthlyRepeatPercentage.values).plot.bar(ax=ax,grid=True,secondary_y=True,color='blue',alpha=0.3)\n",
    "\n",
    "ax.set_xlabel('Date')\n",
    "ax.set_ylabel('Number of Customers')\n",
    "ax.set_title('Number of Unique vs. Repeat Customers Over Time')\n",
    "\n",
    "ax2.set_ylabel('percentage (%)')\n",
    "\n",
    "ax.legend(['Repeat Customers', 'All Customers'])\n",
    "ax2.legend(['Percentage of Repeat'], loc='upper right')\n",
    "\n",
    "ax.set_ylim([0, MonthlyUniqueCustomers.values.max()+100])\n",
    "ax2.set_ylim([0, 100])\n",
    "\n",
    "plt.xticks(range(len(MonthlyRepeatCustomers.index)), [x.strftime('%m.%Y') for x in MonthlyRepeatCustomers.index], rotation=45)\n",
    "\n",
    "plt.show()"
   ]
  },
  {
   "cell_type": "code",
   "execution_count": 57,
   "metadata": {
    "colab": {
     "base_uri": "https://localhost:8080/",
     "height": 260
    },
    "colab_type": "code",
    "executionInfo": {
     "elapsed": 3304,
     "status": "ok",
     "timestamp": 1574028226541,
     "user": {
      "displayName": "Rajeev Ratan",
      "photoUrl": "https://lh3.googleusercontent.com/a-/AAuE7mCGo6aIm0tOcd5EhqWlYb0rime9sBvHS9YMpx0D2w=s64",
      "userId": "08597265227091462140"
     },
     "user_tz": 0
    },
    "id": "B3-fCEdEjPvw",
    "outputId": "b188a586-ae2a-4a18-9661-cf1636fbeab2",
    "scrolled": true
   },
   "outputs": [
    {
     "data": {
      "text/plain": [
       "InvoiceDate\n",
       "2010-12-31    62.713792\n",
       "2011-01-31    39.007101\n",
       "2011-02-28    42.767478\n",
       "2011-03-31    44.901787\n",
       "2011-04-30    41.661132\n",
       "2011-05-31    55.732401\n",
       "2011-06-30    56.911595\n",
       "2011-07-31    52.904475\n",
       "2011-08-31    49.141899\n",
       "2011-09-30    52.544416\n",
       "2011-10-31    55.229144\n",
       "2011-11-30    61.436148\n",
       "Freq: M, Name: AmountSpent, dtype: float64"
      ]
     },
     "execution_count": 57,
     "metadata": {},
     "output_type": "execute_result"
    }
   ],
   "source": [
    "# Let's investigate the relationship between revenue and repeat customers\n",
    "MonthlyRevenue = data2.set_index('InvoiceDate')['AmountSpent'].resample('M').sum()\n",
    "\n",
    "MonthlyRevenueRepeatCustomers = InvoiceCustomer.set_index('InvoiceDate').groupby([\n",
    "    pd.Grouper(freq='M'), 'CustomerID']).filter(lambda x: len(x) > 1).resample('M').sum()['AmountSpent']\n",
    "\n",
    "# Let's get a percentage of the revenue from repeat customers to the overall monthly revenue\n",
    "MonthlyRevenuePercentageRepeatCustomers = MonthlyRevenueRepeatCustomers/MonthlyRevenue * 100.0\n",
    "MonthlyRevenuePercentageRepeatCustomers"
   ]
  },
  {
   "cell_type": "code",
   "execution_count": 58,
   "metadata": {
    "colab": {
     "base_uri": "https://localhost:8080/",
     "height": 518
    },
    "colab_type": "code",
    "executionInfo": {
     "elapsed": 1207,
     "status": "ok",
     "timestamp": 1574028269857,
     "user": {
      "displayName": "Rajeev Ratan",
      "photoUrl": "https://lh3.googleusercontent.com/a-/AAuE7mCGo6aIm0tOcd5EhqWlYb0rime9sBvHS9YMpx0D2w=s64",
      "userId": "08597265227091462140"
     },
     "user_tz": 0
    },
    "id": "tJSJFxgWjPvy",
    "outputId": "3d5749f0-3993-41ad-8759-54a0b43b6002",
    "scrolled": true
   },
   "outputs": [
    {
     "data": {
      "image/png": "[encoded data removed]",
      "text/plain": [
       "<Figure size 864x576 with 2 Axes>"
      ]
     },
     "metadata": {},
     "output_type": "display_data"
    }
   ],
   "source": [
    "# Now let's plot this information we obtained above\n",
    "ax = pd.DataFrame(MonthlyRevenue.values).plot(figsize=(12,8))\n",
    "\n",
    "pd.DataFrame(MonthlyRevenueRepeatCustomers.values).plot(ax=ax,grid=True,)\n",
    "\n",
    "ax.set_xlabel('date')\n",
    "ax.set_ylabel('sales')\n",
    "ax.set_title('Total Revenue vs. Revenue from Repeat Customers')\n",
    "\n",
    "ax.legend(['Total Revenue', 'Repeat Customer Revenue'])\n",
    "\n",
    "ax.set_ylim([0, max(MonthlyRevenue.values)+100000])\n",
    "\n",
    "ax2 = ax.twinx()\n",
    "\n",
    "pd.DataFrame(MonthlyRevenuePercentageRepeatCustomers.values).plot(ax=ax2,kind='bar',color='blue',alpha=0.3)\n",
    "\n",
    "ax2.set_ylim([0, max(MonthlyRevenuePercentageRepeatCustomers.values)+30])\n",
    "ax2.set_ylabel('percentage (%)')\n",
    "ax2.legend(['Repeat Revenue Percentage'])\n",
    "\n",
    "ax2.set_xticklabels([x.strftime('%m.%Y') for x in MonthlyRevenuePercentageRepeatCustomers.index])\n",
    "\n",
    "plt.show()"
   ]
  },
  {
   "cell_type": "markdown",
   "metadata": {
    "colab_type": "text",
    "id": "0ERRj6jUjPvz"
   },
   "source": [
    "# Item Trends\n",
    "\n",
    "Let's count the number of items sold for each product for each period."
   ]
  },
  {
   "cell_type": "code",
   "execution_count": 59,
   "metadata": {
    "colab": {
     "base_uri": "https://localhost:8080/",
     "height": 312
    },
    "colab_type": "code",
    "executionInfo": {
     "elapsed": 397,
     "status": "ok",
     "timestamp": 1574028309748,
     "user": {
      "displayName": "Rajeev Ratan",
      "photoUrl": "https://lh3.googleusercontent.com/a-/AAuE7mCGo6aIm0tOcd5EhqWlYb0rime9sBvHS9YMpx0D2w=s64",
      "userId": "08597265227091462140"
     },
     "user_tz": 0
    },
    "id": "tu2svLMZjPvz",
    "outputId": "6f28629b-131a-4c32-a126-9088664026c6",
    "scrolled": true
   },
   "outputs": [
    {
     "data": {
      "text/plain": [
       "InvoiceDate  StockCode\n",
       "2010-12-31   10002        224\n",
       "             10120         16\n",
       "             10123C         1\n",
       "             10124A         4\n",
       "             10124G         5\n",
       "             10125        143\n",
       "             10133        123\n",
       "             10135        366\n",
       "             11001         65\n",
       "             15034         38\n",
       "             15036        132\n",
       "             15039         17\n",
       "             15044A         6\n",
       "             15044B         2\n",
       "             15044C         7\n",
       "             15056BL      183\n",
       "             15056N       132\n",
       "             15056P        71\n",
       "             15058A         1\n",
       "             15058B         1\n",
       "             15060B        46\n",
       "             16008         14\n",
       "             16010         12\n",
       "             16011         94\n",
       "             16012        120\n",
       "Name: Quantity, dtype: int64"
      ]
     },
     "execution_count": 59,
     "metadata": {},
     "output_type": "execute_result"
    }
   ],
   "source": [
    "# Now let's get quantity of each item sold per month\n",
    "DateItem = data2.set_index('InvoiceDate').groupby([pd.Grouper(freq='M'), 'StockCode'])['Quantity'].sum()\n",
    "\n",
    "DateItem.head(25)"
   ]
  },
  {
   "cell_type": "code",
   "execution_count": 60,
   "metadata": {
    "colab": {
     "base_uri": "https://localhost:8080/",
     "height": 355
    },
    "colab_type": "code",
    "executionInfo": {
     "elapsed": 426,
     "status": "ok",
     "timestamp": 1574028341703,
     "user": {
      "displayName": "Rajeev Ratan",
      "photoUrl": "https://lh3.googleusercontent.com/a-/AAuE7mCGo6aIm0tOcd5EhqWlYb0rime9sBvHS9YMpx0D2w=s64",
      "userId": "08597265227091462140"
     },
     "user_tz": 0
    },
    "id": "2XIs_gP6jPv1",
    "outputId": "7ec9c846-b26b-4a0a-fdb6-6a970bb0396b",
    "scrolled": true
   },
   "outputs": [
    {
     "data": {
      "text/html": [
       "<div>\n",
       "<style scoped>\n",
       "    .dataframe tbody tr th:only-of-type {\n",
       "        vertical-align: middle;\n",
       "    }\n",
       "\n",
       "    .dataframe tbody tr th {\n",
       "        vertical-align: top;\n",
       "    }\n",
       "\n",
       "    .dataframe thead th {\n",
       "        text-align: right;\n",
       "    }\n",
       "</style>\n",
       "<table border=\"1\" class=\"dataframe\">\n",
       "  <thead>\n",
       "    <tr style=\"text-align: right;\">\n",
       "      <th></th>\n",
       "      <th>InvoiceDate</th>\n",
       "      <th>StockCode</th>\n",
       "      <th>Quantity</th>\n",
       "    </tr>\n",
       "  </thead>\n",
       "  <tbody>\n",
       "    <tr>\n",
       "      <th>2371</th>\n",
       "      <td>2011-11-30</td>\n",
       "      <td>84826</td>\n",
       "      <td>12551</td>\n",
       "    </tr>\n",
       "    <tr>\n",
       "      <th>1567</th>\n",
       "      <td>2011-11-30</td>\n",
       "      <td>23084</td>\n",
       "      <td>12393</td>\n",
       "    </tr>\n",
       "    <tr>\n",
       "      <th>827</th>\n",
       "      <td>2011-11-30</td>\n",
       "      <td>22197</td>\n",
       "      <td>8458</td>\n",
       "    </tr>\n",
       "    <tr>\n",
       "      <th>738</th>\n",
       "      <td>2011-11-30</td>\n",
       "      <td>22086</td>\n",
       "      <td>5919</td>\n",
       "    </tr>\n",
       "    <tr>\n",
       "      <th>2488</th>\n",
       "      <td>2011-11-30</td>\n",
       "      <td>85099B</td>\n",
       "      <td>5678</td>\n",
       "    </tr>\n",
       "    <tr>\n",
       "      <th>2385</th>\n",
       "      <td>2011-11-30</td>\n",
       "      <td>84879</td>\n",
       "      <td>5190</td>\n",
       "    </tr>\n",
       "    <tr>\n",
       "      <th>1135</th>\n",
       "      <td>2011-11-30</td>\n",
       "      <td>22578</td>\n",
       "      <td>4981</td>\n",
       "    </tr>\n",
       "    <tr>\n",
       "      <th>2498</th>\n",
       "      <td>2011-11-30</td>\n",
       "      <td>85123A</td>\n",
       "      <td>4861</td>\n",
       "    </tr>\n",
       "    <tr>\n",
       "      <th>1134</th>\n",
       "      <td>2011-11-30</td>\n",
       "      <td>22577</td>\n",
       "      <td>4582</td>\n",
       "    </tr>\n",
       "    <tr>\n",
       "      <th>2278</th>\n",
       "      <td>2011-11-30</td>\n",
       "      <td>84077</td>\n",
       "      <td>4500</td>\n",
       "    </tr>\n",
       "  </tbody>\n",
       "</table>\n",
       "</div>"
      ],
      "text/plain": [
       "     InvoiceDate StockCode  Quantity\n",
       "2371  2011-11-30     84826     12551\n",
       "1567  2011-11-30     23084     12393\n",
       "827   2011-11-30     22197      8458\n",
       "738   2011-11-30     22086      5919\n",
       "2488  2011-11-30    85099B      5678\n",
       "2385  2011-11-30     84879      5190\n",
       "1135  2011-11-30     22578      4981\n",
       "2498  2011-11-30    85123A      4861\n",
       "1134  2011-11-30     22577      4582\n",
       "2278  2011-11-30     84077      4500"
      ]
     },
     "execution_count": 60,
     "metadata": {},
     "output_type": "execute_result"
    }
   ],
   "source": [
    "# Rank items by the last month's sales\n",
    "LastMonthSorted = DateItem.loc['2011-11-30']\n",
    "LastMonthSorted = LastMonthSorted.reset_index()\n",
    "LastMonthSorted.sort_values(by='Quantity', ascending=False).head(10)"
   ]
  },
  {
   "cell_type": "code",
   "execution_count": null,
   "metadata": {
    "scrolled": true
   },
   "outputs": [],
   "source": []
  },
  {
   "cell_type": "code",
   "execution_count": 61,
   "metadata": {
    "colab": {
     "base_uri": "https://localhost:8080/",
     "height": 1000
    },
    "colab_type": "code",
    "executionInfo": {
     "elapsed": 444,
     "status": "ok",
     "timestamp": 1574028386565,
     "user": {
      "displayName": "Rajeev Ratan",
      "photoUrl": "https://lh3.googleusercontent.com/a-/AAuE7mCGo6aIm0tOcd5EhqWlYb0rime9sBvHS9YMpx0D2w=s64",
      "userId": "08597265227091462140"
     },
     "user_tz": 0
    },
    "id": "1BWEFPmQjPv2",
    "outputId": "715a3610-7254-4a48-abd7-a172cc4b1645",
    "scrolled": true
   },
   "outputs": [
    {
     "data": {
      "text/plain": [
       "InvoiceDate  StockCode\n",
       "2010-12-31   22086         2453\n",
       "             22197         2731\n",
       "             84826          306\n",
       "             85099B        2126\n",
       "2011-01-31   22086           24\n",
       "             22197         1809\n",
       "             84826          480\n",
       "             85099B        2639\n",
       "2011-02-28   22086            5\n",
       "             22197         2663\n",
       "             84826           66\n",
       "             85099B        3078\n",
       "2011-03-31   22086           87\n",
       "             22197         2798\n",
       "             84826           60\n",
       "             85099B        5281\n",
       "2011-04-30   22086          -27\n",
       "             22197         1856\n",
       "             84826            1\n",
       "             85099B        2452\n",
       "2011-05-31   22086           17\n",
       "             22197         6848\n",
       "             23084         1131\n",
       "             85099B        3617\n",
       "2011-06-30   22086          344\n",
       "             22197         2092\n",
       "             23084         1693\n",
       "             84826            4\n",
       "             85099B        3676\n",
       "2011-07-31   22086          377\n",
       "             22197         1862\n",
       "             23084          318\n",
       "             84826            2\n",
       "             85099B        3126\n",
       "2011-08-31   22086          370\n",
       "             22197         5416\n",
       "             23084         1783\n",
       "             84826           72\n",
       "             85099B        5401\n",
       "2011-09-30   22086         2106\n",
       "             22197         4153\n",
       "             23084          196\n",
       "             85099B        4267\n",
       "2011-10-31   22086         3189\n",
       "             22197         5865\n",
       "             23084         6344\n",
       "             84826           11\n",
       "             85099B        4803\n",
       "2011-11-30   22086         7868\n",
       "             22197        12159\n",
       "             23084        14883\n",
       "             84826        12551\n",
       "             85099B        5807\n",
       "2011-12-31   22086         2089\n",
       "             22197         6198\n",
       "             23084         4298\n",
       "             84826           92\n",
       "             85099B        1090\n",
       "Name: Quantity, dtype: int64"
      ]
     },
     "execution_count": 61,
     "metadata": {},
     "output_type": "execute_result"
    }
   ],
   "source": [
    "# Let's look at the top 5 items sale per month \n",
    "\n",
    "DateItem = data.loc[data['StockCode'].isin(['23084', '84826', '22197', '22086', '85099B'])].set_index('InvoiceDate').groupby([\n",
    "    pd.Grouper(freq='M'), 'StockCode'])['Quantity'].sum()\n",
    "\n",
    "DateItem"
   ]
  },
  {
   "cell_type": "code",
   "execution_count": 63,
   "metadata": {
    "colab": {
     "base_uri": "https://localhost:8080/",
     "height": 478
    },
    "colab_type": "code",
    "executionInfo": {
     "elapsed": 503,
     "status": "ok",
     "timestamp": 1574028434208,
     "user": {
      "displayName": "Rajeev Ratan",
      "photoUrl": "https://lh3.googleusercontent.com/a-/AAuE7mCGo6aIm0tOcd5EhqWlYb0rime9sBvHS9YMpx0D2w=s64",
      "userId": "08597265227091462140"
     },
     "user_tz": 0
    },
    "id": "8yZ9rRjCjPv4",
    "outputId": "790e2f2a-48f2-4b3f-acb6-0e95f3ff5176",
    "scrolled": true
   },
   "outputs": [
    {
     "data": {
      "text/html": [
       "<div>\n",
       "<style scoped>\n",
       "    .dataframe tbody tr th:only-of-type {\n",
       "        vertical-align: middle;\n",
       "    }\n",
       "\n",
       "    .dataframe tbody tr th {\n",
       "        vertical-align: top;\n",
       "    }\n",
       "\n",
       "    .dataframe thead th {\n",
       "        text-align: right;\n",
       "    }\n",
       "</style>\n",
       "<table border=\"1\" class=\"dataframe\">\n",
       "  <thead>\n",
       "    <tr style=\"text-align: right;\">\n",
       "      <th>StockCode</th>\n",
       "      <th>22086</th>\n",
       "      <th>22197</th>\n",
       "      <th>23084</th>\n",
       "      <th>84826</th>\n",
       "      <th>85099B</th>\n",
       "    </tr>\n",
       "    <tr>\n",
       "      <th>InvoiceDate</th>\n",
       "      <th></th>\n",
       "      <th></th>\n",
       "      <th></th>\n",
       "      <th></th>\n",
       "      <th></th>\n",
       "    </tr>\n",
       "  </thead>\n",
       "  <tbody>\n",
       "    <tr>\n",
       "      <th>2010-12-31</th>\n",
       "      <td>2453.0</td>\n",
       "      <td>2731.0</td>\n",
       "      <td>0.0</td>\n",
       "      <td>306.0</td>\n",
       "      <td>2126.0</td>\n",
       "    </tr>\n",
       "    <tr>\n",
       "      <th>2011-01-31</th>\n",
       "      <td>24.0</td>\n",
       "      <td>1809.0</td>\n",
       "      <td>0.0</td>\n",
       "      <td>480.0</td>\n",
       "      <td>2639.0</td>\n",
       "    </tr>\n",
       "    <tr>\n",
       "      <th>2011-02-28</th>\n",
       "      <td>5.0</td>\n",
       "      <td>2663.0</td>\n",
       "      <td>0.0</td>\n",
       "      <td>66.0</td>\n",
       "      <td>3078.0</td>\n",
       "    </tr>\n",
       "    <tr>\n",
       "      <th>2011-03-31</th>\n",
       "      <td>87.0</td>\n",
       "      <td>2798.0</td>\n",
       "      <td>0.0</td>\n",
       "      <td>60.0</td>\n",
       "      <td>5281.0</td>\n",
       "    </tr>\n",
       "    <tr>\n",
       "      <th>2011-04-30</th>\n",
       "      <td>-27.0</td>\n",
       "      <td>1856.0</td>\n",
       "      <td>0.0</td>\n",
       "      <td>1.0</td>\n",
       "      <td>2452.0</td>\n",
       "    </tr>\n",
       "    <tr>\n",
       "      <th>2011-05-31</th>\n",
       "      <td>17.0</td>\n",
       "      <td>6848.0</td>\n",
       "      <td>1131.0</td>\n",
       "      <td>0.0</td>\n",
       "      <td>3617.0</td>\n",
       "    </tr>\n",
       "    <tr>\n",
       "      <th>2011-06-30</th>\n",
       "      <td>344.0</td>\n",
       "      <td>2092.0</td>\n",
       "      <td>1693.0</td>\n",
       "      <td>4.0</td>\n",
       "      <td>3676.0</td>\n",
       "    </tr>\n",
       "    <tr>\n",
       "      <th>2011-07-31</th>\n",
       "      <td>377.0</td>\n",
       "      <td>1862.0</td>\n",
       "      <td>318.0</td>\n",
       "      <td>2.0</td>\n",
       "      <td>3126.0</td>\n",
       "    </tr>\n",
       "    <tr>\n",
       "      <th>2011-08-31</th>\n",
       "      <td>370.0</td>\n",
       "      <td>5416.0</td>\n",
       "      <td>1783.0</td>\n",
       "      <td>72.0</td>\n",
       "      <td>5401.0</td>\n",
       "    </tr>\n",
       "    <tr>\n",
       "      <th>2011-09-30</th>\n",
       "      <td>2106.0</td>\n",
       "      <td>4153.0</td>\n",
       "      <td>196.0</td>\n",
       "      <td>0.0</td>\n",
       "      <td>4267.0</td>\n",
       "    </tr>\n",
       "    <tr>\n",
       "      <th>2011-10-31</th>\n",
       "      <td>3189.0</td>\n",
       "      <td>5865.0</td>\n",
       "      <td>6344.0</td>\n",
       "      <td>11.0</td>\n",
       "      <td>4803.0</td>\n",
       "    </tr>\n",
       "    <tr>\n",
       "      <th>2011-11-30</th>\n",
       "      <td>7868.0</td>\n",
       "      <td>12159.0</td>\n",
       "      <td>14883.0</td>\n",
       "      <td>12551.0</td>\n",
       "      <td>5807.0</td>\n",
       "    </tr>\n",
       "    <tr>\n",
       "      <th>2011-12-31</th>\n",
       "      <td>2089.0</td>\n",
       "      <td>6198.0</td>\n",
       "      <td>4298.0</td>\n",
       "      <td>92.0</td>\n",
       "      <td>1090.0</td>\n",
       "    </tr>\n",
       "  </tbody>\n",
       "</table>\n",
       "</div>"
      ],
      "text/plain": [
       "StockCode     22086    22197    23084    84826  85099B\n",
       "InvoiceDate                                           \n",
       "2010-12-31   2453.0   2731.0      0.0    306.0  2126.0\n",
       "2011-01-31     24.0   1809.0      0.0    480.0  2639.0\n",
       "2011-02-28      5.0   2663.0      0.0     66.0  3078.0\n",
       "2011-03-31     87.0   2798.0      0.0     60.0  5281.0\n",
       "2011-04-30    -27.0   1856.0      0.0      1.0  2452.0\n",
       "2011-05-31     17.0   6848.0   1131.0      0.0  3617.0\n",
       "2011-06-30    344.0   2092.0   1693.0      4.0  3676.0\n",
       "2011-07-31    377.0   1862.0    318.0      2.0  3126.0\n",
       "2011-08-31    370.0   5416.0   1783.0     72.0  5401.0\n",
       "2011-09-30   2106.0   4153.0    196.0      0.0  4267.0\n",
       "2011-10-31   3189.0   5865.0   6344.0     11.0  4803.0\n",
       "2011-11-30   7868.0  12159.0  14883.0  12551.0  5807.0\n",
       "2011-12-31   2089.0   6198.0   4298.0     92.0  1090.0"
      ]
     },
     "execution_count": 63,
     "metadata": {},
     "output_type": "execute_result"
    }
   ],
   "source": [
    "# Now let's generate a monthly trend of each of the top 5 items\n",
    "TrendingItems = DateItem.reset_index().pivot('InvoiceDate','StockCode').fillna(0)\n",
    "\n",
    "TrendingItems = TrendingItems.reset_index()\n",
    "TrendingItems = TrendingItems.set_index('InvoiceDate')\n",
    "TrendingItems.columns = TrendingItems.columns.droplevel(0)\n",
    "TrendingItems"
   ]
  },
  {
   "cell_type": "code",
   "execution_count": 65,
   "metadata": {
    "colab": {
     "base_uri": "https://localhost:8080/",
     "height": 547
    },
    "colab_type": "code",
    "executionInfo": {
     "elapsed": 987,
     "status": "ok",
     "timestamp": 1574028471825,
     "user": {
      "displayName": "Rajeev Ratan",
      "photoUrl": "https://lh3.googleusercontent.com/a-/AAuE7mCGo6aIm0tOcd5EhqWlYb0rime9sBvHS9YMpx0D2w=s64",
      "userId": "08597265227091462140"
     },
     "user_tz": 0
    },
    "id": "2ZrbPoIIjPv7",
    "outputId": "e593d3c9-ec1f-4909-ca56-44447102ea18",
    "scrolled": true
   },
   "outputs": [
    {
     "data": {
      "image/png": "[encoded data removed]",
      "text/plain": [
       "<Figure size 864x576 with 1 Axes>"
      ]
     },
     "metadata": {},
     "output_type": "display_data"
    }
   ],
   "source": [
    "# Plot the above information\n",
    "ax = pd.DataFrame(TrendingItems.values).plot(figsize=(12,8), grid=True,)\n",
    "\n",
    "ax.set_ylabel('number of purchases')\n",
    "ax.set_xlabel('date')\n",
    "ax.set_title('Item Trends over Time')\n",
    "\n",
    "ax.legend(TrendingItems.columns, loc='upper left')\n",
    "\n",
    "plt.xticks(range(len(TrendingItems.index)), [x.strftime('%m.%Y') for x in TrendingItems.index], rotation=45)\n",
    "\n",
    "plt.show()"
   ]
  },
  {
   "cell_type": "code",
   "execution_count": 0,
   "metadata": {
    "colab": {},
    "colab_type": "code",
    "id": "UZVc4hdZaGj6",
    "scrolled": true
   },
   "outputs": [],
   "source": []
  }
 ],
 "metadata": {
  "colab": {
   "collapsed_sections": [],
   "name": "20.0 Case Study 10 - Product and Retail Analytics -  Exploratory Data Analysis.ipynb",
   "provenance": [
    {
     "file_id": "1-V_Lvys2tAuBUy631KC3VdJnCe9VPOnZ",
     "timestamp": 1573158478705
    }
   ],
   "toc_visible": true
  },
  "kernelspec": {
   "display_name": "Python 3",
   "language": "python",
   "name": "python3"
  },
  "language_info": {
   "codemirror_mode": {
    "name": "ipython",
    "version": 3
   },
   "file_extension": ".py",
   "mimetype": "text/x-python",
   "name": "python",
   "nbconvert_exporter": "python",
   "pygments_lexer": "ipython3",
   "version": "3.8.3"
  }
 },
 "nbformat": 4,
 "nbformat_minor": 1
}
